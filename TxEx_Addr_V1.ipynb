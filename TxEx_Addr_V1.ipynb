{
 "cells": [
  {
   "cell_type": "code",
   "execution_count": 4,
   "metadata": {},
   "outputs": [
    {
     "name": "stdout",
     "output_type": "stream",
     "text": [
      "original count  166745\n",
      "Count records after dropping records with no address :  158723\n",
      "        EID                   Street     City     State         Zip  \\\n",
      "0    evr253  1715 gosnell rd apt 104   Vienna  Virginia       22182   \n",
      "1     cen95        1808 Intervail Dr   Austin        TX       78746   \n",
      "2  goldenr1   5735 Diamond Point Cir  El Paso        TX  79912-4160   \n",
      "\n",
      "         Country Primary Address Type TE_Current_Address_Updated  \\\n",
      "0  United Statea                 Home             9/5/2019 23:01   \n",
      "1  United States                 Home            2/25/2020 11:37   \n",
      "2  United States                 Home             7/2/2020 10:09   \n",
      "\n",
      "                                        Other Street Other City  \\\n",
      "0                                                NaN        NaN   \n",
      "1             Westlake High School\\n4100 Westbank Dr     Austin   \n",
      "2  Western Hills Elementary School 530 Thunderbir...    El Paso   \n",
      "\n",
      "  Other State/Province Other Zip/Postal Code Other Country  \\\n",
      "0                  NaN                   NaN           NaN   \n",
      "1                   TX                 78746            US   \n",
      "2                   TX            79912-3315           NaN   \n",
      "\n",
      "  TE Other Address Info Updated  \n",
      "0                           NaN  \n",
      "1               2/25/2020 11:32  \n",
      "2                           NaN  \n",
      "158723\n",
      "        EID                   Street\n",
      "0    EVR253  1715 gosnell rd apt 104\n",
      "1     CEN95        1808 Intervail Dr\n",
      "2  GOLDENR1   5735 Diamond Point Cir\n"
     ]
    },
    {
     "name": "stderr",
     "output_type": "stream",
     "text": [
      "C:\\Users\\le5752\\Anaconda3\\lib\\site-packages\\IPython\\core\\interactiveshell.py:3063: DtypeWarning: Columns (5,8) have mixed types.Specify dtype option on import or set low_memory=False.\n",
      "  interactivity=interactivity, compiler=compiler, result=result)\n"
     ]
    }
   ],
   "source": [
    "'''1. Remove foreign records to a 'foreign dataframe' and delete them from this df. - applicable for  address\n",
    "2.Find whether all phone numbers are empty, if empty drop those rows (8708)\n",
    "3.Column Phone matches the Phone number in preferred phone number\n",
    "Transfer records with non-null values in Phone to a new dataframe with columns EID and phone\n",
    "Find the count of records (124000)\n",
    "4. Null values in Phone: (36000 records) Create a new df:Check the content in preferred phone \n",
    "and grasp the preferred phone and add it to df with columns eid and phone\n",
    "\n",
    "'''\n",
    "\n",
    "import sys\n",
    "import pandas as pd\n",
    "from fuzzywuzzy import fuzz\n",
    "\n",
    "df_txexAddr = pd.read_csv('TxExAddr.csv')\n",
    "print(\"original count \",len(df_txexAddr))\n",
    "\n",
    "df_Addr = df_txexAddr.dropna(how='all', subset=['Street'])\n",
    "print(\"Count records after dropping records with no address : \",len(df_Addr))\n",
    "print(df_Addr.head(3))\n",
    "\n",
    "df_Addr = df_Addr[['EID', 'Street']]\n",
    "df_Addr['EID'] = df_Addr['EID'].str.upper()\n",
    "print(len(df_Addr))\n",
    "print(df_Addr.head(3))"
   ]
  },
  {
   "cell_type": "code",
   "execution_count": 8,
   "metadata": {},
   "outputs": [
    {
     "name": "stdout",
     "output_type": "stream",
     "text": [
      "50000\n",
      "            EID                  Street\n",
      "50541     TWT67   750 Fort Worth Avenue\n",
      "50542  FARIASF1  1313 South 10th Street\n",
      "50543    HELDTN       1908 Cliff Street\n",
      "50000\n",
      "            EID                 Street\n",
      "50544  0499FJZD  7807 Moonflower Drive\n",
      "50545    RRW372        5929 Merritt Pl\n",
      "50546   GIRDYGO     2041 Snyder Avenue\n",
      "             EID                                 Street\n",
      "104693  0926JGMY                  6019 San Paublo Court\n",
      "104694    NAJOLI  2611 Bens Branch Drive Apartment 2414\n",
      "104695    CVC464                      455 Kayton Avenue\n",
      "58723\n",
      "             EID                  Street\n",
      "104696    CMH573     541 Magazine Avenue\n",
      "104697  JBAG7283  2800 Kirby Dr Apt A732\n",
      "104698   SMS4275      14242 Bateau Drive\n"
     ]
    }
   ],
   "source": [
    "df_Addr1 = pd.DataFrame()\n",
    "df_Addr2 = pd.DataFrame()\n",
    "df_Addr1 = df_Addr[:50000]\n",
    "df_Addr2 = df_Addr[50000:100000]\n",
    "df_Addr3 = df_Addr[100000:]\n",
    "print(len(df_Addr1))\n",
    "print(df_Addr1.tail(3))\n",
    "print(len(df_Addr2))\n",
    "print(df_Addr2.head(3))\n",
    "print(df_Addr2.tail(3))\n",
    "print(len(df_Addr3))\n",
    "print(df_Addr3.head(3))"
   ]
  },
  {
   "cell_type": "code",
   "execution_count": 20,
   "metadata": {},
   "outputs": [],
   "source": [
    "df_street = df_Addr1\n",
    "#df_addrxl = df_Addr1"
   ]
  },
  {
   "cell_type": "code",
   "execution_count": 11,
   "metadata": {
    "scrolled": true
   },
   "outputs": [],
   "source": [
    "raw_eid = df_street['EID'].dropna()\n",
    "eid = raw_eid.tolist()\n",
    "#print(len(eid))\n",
    "# How many elements each list should have \n",
    "n = 1000\n",
    "pid = {}\n",
    "for i in range((len(eid) + n - 1) // n ):\n",
    "    #globals()[\"eid\" + str(i)] = eid[i * n:(i + 1) * n]\n",
    "    pid[i] = eid[i * n:(i + 1) * n]"
   ]
  },
  {
   "cell_type": "code",
   "execution_count": 13,
   "metadata": {},
   "outputs": [],
   "source": [
    "import cx_Oracle\n",
    "connection = cx_Oracle.connect(\"vipapp/ZJf3__6qjRt8@exa1-scan.austin.utexas.edu:1525/viprp_pdb.austin.utexas.edu\")\n",
    "cursor = connection.cursor()\n",
    "df_addr_db = pd.DataFrame(columns = ['EID','Address1','Address2','City','State','Zip Code'])\n",
    "for i in range(50):\n",
    "    cursor.execute(\"select UT_EID, vi_addr_line1, vi_addr_line2, vi_city, vi_state,vi_zip from vi_vips_main m, vi_vips_addresses a  where m.ALUMNI_ID = a.ALUMNI_ID AND m.ut_eid IN %s\" % str(tuple(pid[i])).replace(',)',')'))\n",
    "    results = cursor.fetchall()\n",
    "    df1 = pd.DataFrame(results, columns = ['EID','Address1','Address2','City','State','Zip Code'])\n",
    "    df_addr_db = df_addr_db.append(df1,ignore_index=True)\n",
    "cursor.close()\n",
    "connection.close()                   "
   ]
  },
  {
   "cell_type": "code",
   "execution_count": 14,
   "metadata": {},
   "outputs": [
    {
     "name": "stdout",
     "output_type": "stream",
     "text": [
      "99607\n",
      "98385\n"
     ]
    }
   ],
   "source": [
    "print(len(df_addr_db))\n",
    "df_addr_db = df_addr_db.drop_duplicates()\n",
    "print(len(df_addr_db))\n",
    "print(df_addr_db.head(3))"
   ]
  },
  {
   "cell_type": "code",
   "execution_count": 21,
   "metadata": {},
   "outputs": [
    {
     "name": "stdout",
     "output_type": "stream",
     "text": [
      "        EID                   Street\n",
      "0    EVR253  1715 gosnell rd apt 104\n",
      "1     CEN95        1808 Intervail Dr\n",
      "2  GOLDENR1   5735 Diamond Point Cir\n",
      "3     RHM88     2912 River Pine Lane\n",
      "50000\n"
     ]
    }
   ],
   "source": [
    "df_addr_csv = df_street\n",
    "print(df_addr_csv.head(4))\n",
    "print(len(df_addr_csv))\n",
    "del df_street"
   ]
  },
  {
   "cell_type": "code",
   "execution_count": 22,
   "metadata": {},
   "outputs": [],
   "source": [
    "addr_diff = pd.DataFrame()\n",
    "for i in range(len(df_addr_csv)):\n",
    "#for i in (11,44,55,66,123,133,143,333,445,667,246,988):\n",
    "    flag = 0\n",
    "    id_csv = df_addr_csv.iloc[i,0]\n",
    "    csv_addr = df_addr_csv.iloc[i,1]\n",
    "    cmp_dbaddr = df_addr_db.loc[df_addr_db['EID'] == id_csv]\n",
    "    #print(cmp_dbaddr)\n",
    "    #print(df_addr_csv.loc[df_addr_csv['EID'] == id_csv])\n",
    "    #print(\"---\")\n",
    "    \n",
    "    for j in range(len(cmp_dbaddr)):\n",
    "        db_addr = cmp_dbaddr.iloc[j,1]\n",
    "        Token_Set_Ratio = fuzz.token_set_ratio(csv_addr,db_addr)\n",
    "        if (Token_Set_Ratio > 77):\n",
    "            flag = 0\n",
    "            break\n",
    "        else:\n",
    "            flag = 1\n",
    "    \n",
    "    #print(\"flag = \", flag)\n",
    "    \n",
    "    if (flag == 1):\n",
    "        addrlist = []\n",
    "        for k in range(len(cmp_dbaddr)):\n",
    "            temp = (cmp_dbaddr.loc[cmp_dbaddr['EID'] == id_csv]).iloc[:,1]\n",
    "            addrlist = temp.values.tolist()\n",
    "        addr_diff = addr_diff.append({'EID':id_csv, 'DB_Address':addrlist,'CSV_Address':csv_addr}, ignore_index=True)\n",
    "#print(\"----------------------------------------------------------------\")\n",
    "#print(addr_diff)\n",
    "#print(\"----------------------------------------------------------------\")"
   ]
  },
  {
   "cell_type": "code",
   "execution_count": 24,
   "metadata": {},
   "outputs": [
    {
     "name": "stdout",
     "output_type": "stream",
     "text": [
      "                         CSV_Address  \\\n",
      "0            1715 gosnell rd apt 104   \n",
      "1              2900 Manor Rd., #3362   \n",
      "2             203 Burning Tree Drive   \n",
      "3            2472 Worthington Street   \n",
      "4           2401 Aldrich St. Apt.343   \n",
      "5   12367 Spanish Trace Drive, Apt G   \n",
      "6                             Unit A   \n",
      "7         2312 Zirkell Lane Apt. 202   \n",
      "8           5400 N Lamar Blvd. #3030   \n",
      "9                3104 Lynridge Drive   \n",
      "10             6003 Running Creek Ct   \n",
      "\n",
      "                                           DB_Address       EID  \n",
      "0               [2313 Sequoia Ln, 2810 Hemphill Park]    EVR253  \n",
      "1   [The University of Texas at Austin, 2208 Del C...    CNG829  \n",
      "2   [The University of Texas at Austin, 12704 Lowd...   EVANSPA  \n",
      "3   [The University of Texas at Austin, 1103 Black...    WRF374  \n",
      "4   [The University of Texas at Austin, 2401 Aldri...   JH68833  \n",
      "5   [The University of Texas at Austin, 1811 Sycam...   SA44965  \n",
      "6   [4127 Honeycomb Rock Circle, The University of...  SKINNERE  \n",
      "7   [102 Wichita Cir, The University of Texas at A...    EE6763  \n",
      "8   [The University of Texas at Austin, 6442 Alisa...   AT28345  \n",
      "9   [The University of Texas at Austin, P. O. Box ...     GAT87  \n",
      "10  [The University of Texas at Austin, 600 W 26th...    NCW453  \n",
      "7222\n"
     ]
    }
   ],
   "source": [
    "print(addr_diff.head(11))\n",
    "print(len(addr_diff))"
   ]
  },
  {
   "cell_type": "code",
   "execution_count": 25,
   "metadata": {},
   "outputs": [],
   "source": [
    "addr_diff.to_csv(r'C:\\Users\\le5752\\Documents\\DB_Python\\addr1.csv', index = False)"
   ]
  }
 ],
 "metadata": {
  "kernelspec": {
   "display_name": "Python 3",
   "language": "python",
   "name": "python3"
  },
  "language_info": {
   "codemirror_mode": {
    "name": "ipython",
    "version": 3
   },
   "file_extension": ".py",
   "mimetype": "text/x-python",
   "name": "python",
   "nbconvert_exporter": "python",
   "pygments_lexer": "ipython3",
   "version": "3.7.7"
  }
 },
 "nbformat": 4,
 "nbformat_minor": 4
}
