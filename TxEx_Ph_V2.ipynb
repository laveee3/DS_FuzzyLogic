{
 "cells": [
  {
   "cell_type": "code",
   "execution_count": 31,
   "metadata": {},
   "outputs": [
    {
     "name": "stdout",
     "output_type": "stream",
     "text": [
      "original count  2200\n",
      "original count  2200\n",
      "Count records after dropping records with no phone numbers :  2085\n",
      "Count records with values in column Phone :  1765\n",
      "has records with empty values in column Phone :  320\n"
     ]
    }
   ],
   "source": [
    "'''1. Remove foreign records to a 'foreign dataframe' and delete them from this df. - applicable for  address\n",
    "2.Find whether all phone numbers are empty, if empty drop those rows (8708)\n",
    "3.Column Phone matches the Phone number in preferred phone number\n",
    "Transfer records with non-null values in Phone to a new dataframe with columns EID and phone\n",
    "Find the count of records (124000)\n",
    "4. Null values in Phone: (36000 records) Create a new df:Check the content in preferred phone \n",
    "and grasp the preferred phone and add it to df with columns eid and phone\n",
    "\n",
    "Phone number formatting:\n",
    "\n",
    "Format for 10 continuous numbers (USA), make numbers mentioned with USA international code +1 into 10 digits, ignore +1\n",
    "Delete the records with more than 10 number, extension is mentioned\n",
    "  -- If more than 10 numbers, if non usa number add it to a 'foreign dataframe' delete that number\n",
    "  -- If extension is mentioned, add it to the 'extension dataframe'. Check whether the database has extension numbers mentioned.\n",
    "If the number is less than 10 digits, compare the last 7 digits of the phone number from database\n",
    "\n",
    "df_texPh  has original file\n",
    "df_txPh has records after dropping records with no phone numbers\n",
    "df_prfrPh has records with values in column 'Phone' \n",
    "df_Ph  has records with empty values in column 'Phone' \n",
    "\n",
    "There is a challenge. We cannot send more than 1000 EID in where clause of sql to access the records from database. \n",
    "So the idea of using sql embedded inside python is being dropped.\n",
    "Instead we are going to do separate sql query joining every 1000 eid in 'or' clause.\n",
    "The sql output from Database is going to be imported as a csv file\n",
    "Solution:for i in range((len(eid) + n - 1) // n ):\n",
    "            pid[i] = eid[i * n:(i + 1) * n]\n",
    "\n",
    "Problem:  the EIDs from the csv file are not present in vi_vips_main table.\n",
    "Is there a separate table for alumni? \n",
    "Solution: converting eid to all uppercase\n",
    "'''\n",
    "import pandas as pd\n",
    "#import chardet\n",
    "\n",
    "df_texPh = pd.read_csv('Texasxes.csv')\n",
    "print(\"original count \",len(df_texPh))\n",
    "\n",
    "df_texPh = df_texPh[['EID','Phone','Home Phone','Preferred Phone', 'Mobile','Work Phone','Other Phone']]\n",
    "print(\"original count \",len(df_texPh))\n",
    "\n",
    "df_txPh = df_texPh.dropna(how='all', subset=['Phone','Home Phone','Mobile','Work Phone','Other Phone'])\n",
    "print(\"Count records after dropping records with no phone numbers : \",len(df_txPh))\n",
    "\n",
    "df_prfrPh = df_txPh.dropna(subset=['Phone'])\n",
    "print(\"Count records with values in column Phone : \",len(df_prfrPh))\n",
    "\n",
    "#df = df_one[~df_one.index.isin(df_two.index)] Present in First DataFrame and Not in Second DataFrame\n",
    "df_Ph = df_txPh[~df_txPh.index.isin(df_prfrPh.index)]\n",
    "print(\"has records with empty values in column Phone : \",len(df_Ph))\n",
    "\n",
    "del df_texPh, df_txPh, df_Ph"
   ]
  },
  {
   "cell_type": "code",
   "execution_count": 33,
   "metadata": {},
   "outputs": [
    {
     "name": "stdout",
     "output_type": "stream",
     "text": [
      "         EID           Phone\n",
      "0     to3269  (281) 772-0155\n",
      "1   0563numt      5124967336\n",
      "2      ksn99  (361) 865-2686\n",
      "3    jme3234      9152745699\n",
      "4   0343rtia      4258949219\n",
      "5   0246sfps  (651) 484-2525\n",
      "6     krd537  (832) 296-9644\n",
      "7     blr478  (817) 498-8502\n",
      "8     pdm395  (814) 769-6298\n",
      "9   0366swiz  (806) 358-3596\n",
      "10       rt6  (512) 292-3067\n"
     ]
    }
   ],
   "source": [
    "#df_prfrPh.to_csv(r'C:\\Users\\le5752\\Documents\\DB_Python\\ph1.csv', index = False)\n",
    "df_prfrPh1 = df_prfrPh[['EID','Phone']]\n",
    "df_prfrPh1.to_csv(r'C:\\Users\\le5752\\Documents\\DB_Python\\ph2.csv', index = False)\n",
    "del df_prfrPh1\n",
    "df_prfrPh1 = pd.read_csv('ph2.csv')\n",
    "print(df_prfrPh1.head(11))"
   ]
  },
  {
   "cell_type": "code",
   "execution_count": 34,
   "metadata": {},
   "outputs": [
    {
     "name": "stdout",
     "output_type": "stream",
     "text": [
      "         EID           Phone   telephone\n",
      "0     to3269  (281) 772-0155  2817720155\n",
      "1   0563numt      5124967336  5124967336\n",
      "2      ksn99  (361) 865-2686  3618652686\n",
      "3    jme3234      9152745699  9152745699\n",
      "4   0343rtia      4258949219  4258949219\n",
      "5   0246sfps  (651) 484-2525  6514842525\n",
      "6     krd537  (832) 296-9644  8322969644\n",
      "7     blr478  (817) 498-8502  8174988502\n",
      "8     pdm395  (814) 769-6298  8147696298\n",
      "9   0366swiz  (806) 358-3596  8063583596\n",
      "10       rt6  (512) 292-3067  5122923067\n"
     ]
    }
   ],
   "source": [
    "for i in range(len(df_prfrPh1)): \n",
    "    #df_ph_csv.iloc[i,2]=re.findall(r'[\\+\\(]?[1-9][0-9 .\\-\\(\\)]{8,}[0-9]',df_ph_csv.iloc[i,1])\n",
    "    df_prfrPh1.loc[i,'telephone']=df_prfrPh1.iloc[i,1].replace(\"(\",\"\").replace(\")\",\"\").replace(\"-\",\"\").replace(\"/\",\"\").replace(\" \",\"\")\n",
    "df_prfrPh1.to_csv(r'C:\\Users\\le5752\\Documents\\DB_Python\\ph3.csv', index = False)\n",
    "print(df_prfrPh1.head(11))"
   ]
  },
  {
   "cell_type": "code",
   "execution_count": 35,
   "metadata": {},
   "outputs": [
    {
     "name": "stdout",
     "output_type": "stream",
     "text": [
      "         EID           Phone   telephone\n",
      "0     TO3269  (281) 772-0155  2817720155\n",
      "1   0563NUMT      5124967336  5124967336\n",
      "2      KSN99  (361) 865-2686  3618652686\n",
      "3    JME3234      9152745699  9152745699\n",
      "4   0343RTIA      4258949219  4258949219\n",
      "5   0246SFPS  (651) 484-2525  6514842525\n",
      "6     KRD537  (832) 296-9644  8322969644\n",
      "7     BLR478  (817) 498-8502  8174988502\n",
      "8     PDM395  (814) 769-6298  8147696298\n",
      "9   0366SWIZ  (806) 358-3596  8063583596\n",
      "10       RT6  (512) 292-3067  5122923067\n"
     ]
    }
   ],
   "source": [
    "df_prfrPh1['EID'] = df_prfrPh1['EID'].str.upper()\n",
    "df_prfrPh1.to_csv(r'C:\\Users\\le5752\\Documents\\DB_Python\\ph3.csv', index = False)\n",
    "print(df_prfrPh1.head(11))"
   ]
  },
  {
   "cell_type": "code",
   "execution_count": 36,
   "metadata": {
    "scrolled": true
   },
   "outputs": [],
   "source": [
    "raw_eid = df_prfrPh1['EID'].dropna()\n",
    "eid = raw_eid.tolist()\n",
    "#print(len(eid))\n",
    "# How many elements each list should have \n",
    "n = 1000\n",
    "pid = {}\n",
    "for i in range((len(eid) + n - 1) // n ):\n",
    "    #globals()[\"eid\" + str(i)] = eid[i * n:(i + 1) * n]\n",
    "    pid[i] = eid[i * n:(i + 1) * n]"
   ]
  },
  {
   "cell_type": "code",
   "execution_count": 82,
   "metadata": {},
   "outputs": [],
   "source": [
    "import cx_Oracle\n",
    "connection = cx_Oracle.connect(\"xxxx/Zyyy@ea.y.z.com:1525/z.x.y.com\")\n",
    "cursor = connection.cursor()\n",
    "df_ph_db = pd.DataFrame(columns = ['EID','Area','phone'])\n",
    "for i in range(2):\n",
    "    cursor.execute(\"select UT_EID, vi_phone_area_code, vi_phone_nbr from vi_vips_main m, vi_vips_phone_info p where m.ALUMNI_ID = p.ALUMNI_ID AND m.ut_eid IN %s\" % str(tuple(pid[i])).replace(',)',')'))\n",
    "    results = cursor.fetchall()\n",
    "    df1 = pd.DataFrame(results, columns = ['EID','Area','phone'])\n",
    "    df_ph_db = df_ph_db.append(df1,ignore_index=True)\n",
    "cursor.close()\n",
    "connection.close()"
   ]
  },
  {
   "cell_type": "code",
   "execution_count": 83,
   "metadata": {},
   "outputs": [],
   "source": [
    "df_ph_db[\"telephone\"] = df_ph_db[\"Area\"].astype(str) + df_ph_db[\"phone\"].astype(str)"
   ]
  },
  {
   "cell_type": "code",
   "execution_count": 84,
   "metadata": {},
   "outputs": [
    {
     "name": "stdout",
     "output_type": "stream",
     "text": [
      "           EID  Area         phone         telephone\n",
      "585      GB343  None      14792378      None14792378\n",
      "588      GM244  None    8677130601    None8677130601\n",
      "589      GM244  None    8677134294    None8677134294\n",
      "611      GM244  None       5281293       None5281293\n",
      "815    KIKUCHI  None       8874967       None8874967\n",
      "850      LC599  None  525555135037  None525555135037\n",
      "851      LC599  None  525523095834  None525523095834\n",
      "852      LC599  None  525555135037  None525555135037\n",
      "917    MASONEE  None          6108          None6108\n",
      "1528  0976QTMU  None        281781        None281781\n",
      "1745    DP8938  None     602743945     None602743945\n",
      "1753   DL34587  None     226194368     None226194368\n",
      "2012     LZC59  None        795575        None795575\n",
      "2070     MOY68  None    8098001001    None8098001001\n",
      "2084   MM89285  None    1305712016    None1305712016\n",
      "2093     PANGJ  None  886222197491  None886222197491\n",
      "2123   PRM2239  None     910593113     None910593113\n",
      "2360     WEIY1  None  862157742934  None862157742934\n",
      "2361     WEIY1  None  862154377565  None862154377565\n",
      "           EID  Area         phone     telephone\n",
      "585      GB343  None      14792378      14792378\n",
      "588      GM244  None    8677130601    8677130601\n",
      "589      GM244  None    8677134294    8677134294\n",
      "611      GM244  None       5281293       5281293\n",
      "815    KIKUCHI  None       8874967       8874967\n",
      "850      LC599  None  525555135037  525555135037\n",
      "851      LC599  None  525523095834  525523095834\n",
      "852      LC599  None  525555135037  525555135037\n",
      "917    MASONEE  None          6108          6108\n",
      "1528  0976QTMU  None        281781        281781\n",
      "1745    DP8938  None     602743945     602743945\n",
      "1753   DL34587  None     226194368     226194368\n",
      "2012     LZC59  None        795575        795575\n",
      "2070     MOY68  None    8098001001    8098001001\n",
      "2084   MM89285  None    1305712016    1305712016\n",
      "2093     PANGJ  None  886222197491  886222197491\n",
      "2123   PRM2239  None     910593113     910593113\n",
      "2360     WEIY1  None  862157742934  862157742934\n",
      "2361     WEIY1  None  862154377565  862154377565\n"
     ]
    },
    {
     "name": "stderr",
     "output_type": "stream",
     "text": [
      "C:\\Users\\le5752\\Anaconda3\\lib\\site-packages\\ipykernel_launcher.py:5: SettingWithCopyWarning: \n",
      "A value is trying to be set on a copy of a slice from a DataFrame.\n",
      "Try using .loc[row_indexer,col_indexer] = value instead\n",
      "\n",
      "See the caveats in the documentation: https://pandas.pydata.org/pandas-docs/stable/user_guide/indexing.html#returning-a-view-versus-a-copy\n",
      "  \"\"\"\n"
     ]
    }
   ],
   "source": [
    "#df_ph_db[\"telephone\"] = df_ph_db[\"Area\"].astype(str) + df_ph_db[\"phone\"].astype(str)\n",
    "for i in range(len(df_ph_db)):\n",
    "    nan_rows = df_ph_db[df_ph_db['Area'].isnull()]\n",
    "#print(nan_rows)\n",
    "nan_rows[\"telephone\"] = nan_rows[\"phone\"].astype(str)\n",
    "#print(nan_rows)\n",
    "\n",
    "u_EID = nan_rows['EID']\n",
    "u_EID = u_EID.drop_duplicates()\n",
    "uni_EID = u_EID.tolist()\n",
    "\n",
    "df_ph_db = df_ph_db[~df_ph_db['EID'].isin(uni_EID)]\n",
    "df_ph_db = df_ph_db.append(nan_rows,ignore_index=True)\n",
    "\n",
    "df_ph_db.to_csv(r'C:\\Users\\le5752\\Documents\\DB_Python\\ph_out_sep3.csv', index = False)\n"
   ]
  },
  {
   "cell_type": "code",
   "execution_count": 85,
   "metadata": {},
   "outputs": [],
   "source": [
    "df_phone = pd.DataFrame()\n",
    "for i in range(len(df_prfrPh1)):\n",
    "    id_csv = df_prfrPh1.iloc[i,0]\n",
    "    #print(id_csv)\n",
    "    ph_csv = df_prfrPh1.iloc[i,2]\n",
    "    #print(ph_csv)\n",
    "    ph_db = (df_ph_db.loc[df_ph_db['EID'] == id_csv]).iloc[:,3]\n",
    "    #print(ph_db) \n",
    "    ph_db = {*ph_db}\n",
    "    #print(ph_db, ph_csv)\n",
    "    ph_csv = {ph_csv}\n",
    "    diff = (ph_csv - ph_db)\n",
    "    if len(diff) > 0:\n",
    "        df_phone = df_phone.append({'EID':id_csv, 'telephone':df_prfrPh1.iloc[i,2]}, ignore_index=True)"
   ]
  },
  {
   "cell_type": "code",
   "execution_count": 86,
   "metadata": {},
   "outputs": [],
   "source": [
    "df_phone = df_phone.drop_duplicates()\n",
    "\n",
    "df_phone['DB_phone'] = ''\n",
    "for i in range(len(df_phone)):\n",
    "    id_csv = df_phone.iloc[i,0]\n",
    "    ph_db = (df_ph_db.loc[df_ph_db['EID'] == id_csv]).iloc[:,3]\n",
    "    df_phone.iloc[i,2] = ph_db.values.tolist()\n",
    "    \n",
    "df_phone['telephone'].dropna()\n",
    "#print(df_phone['telephone'].dropna())\n",
    "df_phone.to_csv(r'C:\\Users\\le5752\\Documents\\DB_Python\\ph.csv', index = False)"
   ]
  },
  {
   "cell_type": "code",
   "execution_count": null,
   "metadata": {},
   "outputs": [],
   "source": []
  }
 ],
 "metadata": {
  "kernelspec": {
   "display_name": "Python 3",
   "language": "python",
   "name": "python3"
  },
  "language_info": {
   "codemirror_mode": {
    "name": "ipython",
    "version": 3
   },
   "file_extension": ".py",
   "mimetype": "text/x-python",
   "name": "python",
   "nbconvert_exporter": "python",
   "pygments_lexer": "ipython3",
   "version": "3.7.7"
  }
 },
 "nbformat": 4,
 "nbformat_minor": 4
}
