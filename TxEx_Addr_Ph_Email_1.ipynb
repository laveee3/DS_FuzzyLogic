{
 "cells": [
  {
   "cell_type": "code",
   "execution_count": 3,
   "metadata": {},
   "outputs": [
    {
     "data": {
      "text/html": [
       "<div>\n",
       "<style scoped>\n",
       "    .dataframe tbody tr th:only-of-type {\n",
       "        vertical-align: middle;\n",
       "    }\n",
       "\n",
       "    .dataframe tbody tr th {\n",
       "        vertical-align: top;\n",
       "    }\n",
       "\n",
       "    .dataframe thead th {\n",
       "        text-align: right;\n",
       "    }\n",
       "</style>\n",
       "<table border=\"1\" class=\"dataframe\">\n",
       "  <thead>\n",
       "    <tr style=\"text-align: right;\">\n",
       "      <th></th>\n",
       "      <th>EID</th>\n",
       "      <th>telephone</th>\n",
       "      <th>DB_phone</th>\n",
       "    </tr>\n",
       "  </thead>\n",
       "  <tbody>\n",
       "    <tr>\n",
       "      <th>0</th>\n",
       "      <td>CEN95</td>\n",
       "      <td>5123506086</td>\n",
       "      <td>['None512732928033323', '5123296704']</td>\n",
       "    </tr>\n",
       "    <tr>\n",
       "      <th>1</th>\n",
       "      <td>GOLDENR1</td>\n",
       "      <td>9155818010</td>\n",
       "      <td>['9158776354', '9158771796', '9157408010']</td>\n",
       "    </tr>\n",
       "    <tr>\n",
       "      <th>2</th>\n",
       "      <td>DNM223</td>\n",
       "      <td>9522974709</td>\n",
       "      <td>['6175520433', '6519624144', '9529960173']</td>\n",
       "    </tr>\n",
       "    <tr>\n",
       "      <th>3</th>\n",
       "      <td>SFS99</td>\n",
       "      <td>9.63E+11</td>\n",
       "      <td>['None65925271', 'None775576692', 'None7955']</td>\n",
       "    </tr>\n",
       "    <tr>\n",
       "      <th>4</th>\n",
       "      <td>DM46382</td>\n",
       "      <td>2108335557</td>\n",
       "      <td>['2108364289']</td>\n",
       "    </tr>\n",
       "    <tr>\n",
       "      <th>5</th>\n",
       "      <td>KWA</td>\n",
       "      <td>5128372274</td>\n",
       "      <td>['5124710716', '5124716249']</td>\n",
       "    </tr>\n",
       "    <tr>\n",
       "      <th>6</th>\n",
       "      <td>MSM3468</td>\n",
       "      <td>9729643893</td>\n",
       "      <td>['4692719705']</td>\n",
       "    </tr>\n",
       "    <tr>\n",
       "      <th>7</th>\n",
       "      <td>SKR868</td>\n",
       "      <td>7136619776</td>\n",
       "      <td>['8326280962']</td>\n",
       "    </tr>\n",
       "    <tr>\n",
       "      <th>8</th>\n",
       "      <td>CJS4767</td>\n",
       "      <td>2812247268</td>\n",
       "      <td>['None28199523574']</td>\n",
       "    </tr>\n",
       "    <tr>\n",
       "      <th>9</th>\n",
       "      <td>NCW453</td>\n",
       "      <td>2813609086</td>\n",
       "      <td>['8326230305']</td>\n",
       "    </tr>\n",
       "  </tbody>\n",
       "</table>\n",
       "</div>"
      ],
      "text/plain": [
       "        EID   telephone                                       DB_phone\n",
       "0     CEN95  5123506086          ['None512732928033323', '5123296704']\n",
       "1  GOLDENR1  9155818010     ['9158776354', '9158771796', '9157408010']\n",
       "2    DNM223  9522974709     ['6175520433', '6519624144', '9529960173']\n",
       "3     SFS99    9.63E+11  ['None65925271', 'None775576692', 'None7955']\n",
       "4   DM46382  2108335557                                 ['2108364289']\n",
       "5       KWA  5128372274                   ['5124710716', '5124716249']\n",
       "6   MSM3468  9729643893                                 ['4692719705']\n",
       "7    SKR868  7136619776                                 ['8326280962']\n",
       "8   CJS4767  2812247268                            ['None28199523574']\n",
       "9    NCW453  2813609086                                 ['8326230305']"
      ]
     },
     "execution_count": 3,
     "metadata": {},
     "output_type": "execute_result"
    }
   ],
   "source": [
    "# importing pandas module   \n",
    "import pandas as pd   \n",
    "      \n",
    "# making data frame   \n",
    "df_addr = pd.read_csv(r\"C:\\Users\\le5752\\Documents\\DB_Python\\AddrDiff.csv\")   \n",
    "df_phone = pd.read_csv(r\"C:\\Users\\le5752\\Documents\\DB_Python\\ph_final.csv\") \n",
    "df_email = pd.read_csv(r\"C:\\Users\\le5752\\Documents\\DB_Python\\EmailsDiff.csv\") \n",
    "\n",
    "#df_email.head(10) \n",
    "#df_phone.head(10)\n",
    "#df_addr.head(10)\n"
   ]
  },
  {
   "cell_type": "code",
   "execution_count": 29,
   "metadata": {},
   "outputs": [
    {
     "name": "stdout",
     "output_type": "stream",
     "text": [
      "       EID              CSV_Address  \\\n",
      "0   EVR253  1715 gosnell rd apt 104   \n",
      "1   CNG829    2900 Manor Rd., #3362   \n",
      "2  EVANSPA   203 Burning Tree Drive   \n",
      "\n",
      "                                          DB_Address  \\\n",
      "0          ['2313 Sequoia Ln', '2810 Hemphill Park']   \n",
      "1  ['The University of Texas at Austin', '2208 De...   \n",
      "2  ['The University of Texas at Austin', '12704 L...   \n",
      "\n",
      "                     Email_csv                           Email_db telephone  \\\n",
      "0                          NaN                                NaN       NaN   \n",
      "1  caitlinnoelgraham@gmail.com          {'caitgraham@utexas.edu'}       NaN   \n",
      "2       peggy.evans@utexas.edu  {'peggy.evans@austin.utexas.edu'}       NaN   \n",
      "\n",
      "  DB_phone  \n",
      "0      NaN  \n",
      "1      NaN  \n",
      "2      NaN  \n",
      "34885\n"
     ]
    }
   ],
   "source": [
    "E_P_merge = pd.merge(df_email, df_phone, how='outer');\n",
    "AEP_merged = pd.merge(df_addr, E_P_merge, how='outer');\n",
    "#result1.to_csv(r'C:\\Users\\le5752\\Documents\\DB_Python\\fFinal.csv', index = False)\n",
    "print(AEP_merged.head(3))\n",
    "print(len(AEP_merged ))"
   ]
  },
  {
   "cell_type": "code",
   "execution_count": 37,
   "metadata": {},
   "outputs": [],
   "source": [
    "#del df_AEP, df_AE, df_A, df_AP, df_EP, df_P, df_E"
   ]
  },
  {
   "cell_type": "code",
   "execution_count": 38,
   "metadata": {},
   "outputs": [
    {
     "name": "stdout",
     "output_type": "stream",
     "text": [
      "AEP :  303\n",
      "AE :  1037\n",
      "A :  12153\n",
      "AP :  1711\n",
      "EP :  2031\n",
      "P :  10652\n",
      "E :  6995\n"
     ]
    }
   ],
   "source": [
    "df_AEP = AEP_merged[(AEP_merged.CSV_Address.notnull())&(AEP_merged.Email_csv.notnull())&(AEP_merged.telephone.notnull())]\n",
    "print(\"AEP : \", len(df_AEP))\n",
    "\n",
    "df_AE = AEP_merged[(AEP_merged.CSV_Address.notnull())&(AEP_merged.Email_csv.notnull())&(AEP_merged.telephone.isnull())]\n",
    "print(\"AE : \", len(df_AE))\n",
    "\n",
    "df_A = AEP_merged[(AEP_merged.CSV_Address.notnull())&(AEP_merged.Email_csv.isnull())&(AEP_merged.telephone.isnull())]\n",
    "print(\"A : \", len(df_A))\n",
    "\n",
    "df_AP = AEP_merged[(AEP_merged.CSV_Address.notnull())&(AEP_merged.Email_csv.isnull())&(AEP_merged.telephone.notnull())]\n",
    "print(\"AP : \", len(df_AP))\n",
    "\n",
    "df_EP = AEP_merged[(AEP_merged.CSV_Address.isnull())&(AEP_merged.Email_csv.notnull())&(AEP_merged.telephone.notnull())]\n",
    "print(\"EP : \", len(df_EP))\n",
    "\n",
    "df_P = AEP_merged[(AEP_merged.CSV_Address.isnull())&(AEP_merged.Email_csv.isnull())&(AEP_merged.telephone.notnull())]\n",
    "print(\"P : \", len(df_P))\n",
    "\n",
    "df_E = AEP_merged[(AEP_merged.CSV_Address.isnull())&(AEP_merged.Email_csv.notnull())&(AEP_merged.telephone.isnull())]\n",
    "print(\"E : \", len(df_E))"
   ]
  },
  {
   "cell_type": "code",
   "execution_count": 39,
   "metadata": {},
   "outputs": [],
   "source": [
    "df_AEP.to_csv(r'C:\\Users\\le5752\\Documents\\DB_Python\\AEP.csv', index = False)\n",
    "df_AE.to_csv(r'C:\\Users\\le5752\\Documents\\DB_Python\\AE.csv', index = False)\n",
    "df_AP.to_csv(r'C:\\Users\\le5752\\Documents\\DB_Python\\AP.csv', index = False)\n",
    "df_EP.to_csv(r'C:\\Users\\le5752\\Documents\\DB_Python\\EP.csv', index = False)\n",
    "df_A.to_csv(r'C:\\Users\\le5752\\Documents\\DB_Python\\A.csv', index = False)\n",
    "df_E.to_csv(r'C:\\Users\\le5752\\Documents\\DB_Python\\E.csv', index = False)\n",
    "df_P.to_csv(r'C:\\Users\\le5752\\Documents\\DB_Python\\P.csv', index = False)"
   ]
  },
  {
   "cell_type": "code",
   "execution_count": null,
   "metadata": {},
   "outputs": [],
   "source": []
  }
 ],
 "metadata": {
  "kernelspec": {
   "display_name": "Python 3",
   "language": "python",
   "name": "python3"
  },
  "language_info": {
   "codemirror_mode": {
    "name": "ipython",
    "version": 3
   },
   "file_extension": ".py",
   "mimetype": "text/x-python",
   "name": "python",
   "nbconvert_exporter": "python",
   "pygments_lexer": "ipython3",
   "version": "3.7.7"
  }
 },
 "nbformat": 4,
 "nbformat_minor": 4
}
