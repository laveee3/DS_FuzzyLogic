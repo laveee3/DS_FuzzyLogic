{
 "cells": [
  {
   "cell_type": "code",
   "execution_count": 1,
   "metadata": {},
   "outputs": [
    {
     "name": "stdout",
     "output_type": "stream",
     "text": [
      "original count  166745\n",
      "Count records after dropping records with no address :  158723\n",
      "158723\n",
      "        EID                   Street\n",
      "0    EVR253  1715 gosnell rd apt 104\n",
      "1     CEN95        1808 Intervail Dr\n",
      "2  GOLDENR1   5735 Diamond Point Cir\n"
     ]
    },
    {
     "name": "stderr",
     "output_type": "stream",
     "text": [
      "C:\\Users\\le5752\\Anaconda3\\lib\\site-packages\\IPython\\core\\interactiveshell.py:3063: DtypeWarning: Columns (5,8) have mixed types.Specify dtype option on import or set low_memory=False.\n",
      "  interactivity=interactivity, compiler=compiler, result=result)\n"
     ]
    }
   ],
   "source": [
    "'''1. Remove foreign records to a 'foreign dataframe' and delete them from this df. - applicable for  address\n",
    "2.Find whether all phone numbers are empty, if empty drop those rows (8708)\n",
    "3.Column Phone matches the Phone number in preferred phone number\n",
    "Transfer records with non-null values in Phone to a new dataframe with columns EID and phone\n",
    "Find the count of records (124000)\n",
    "4. Null values in Phone: (36000 records) Create a new df:Check the content in preferred phone \n",
    "and grasp the preferred phone and add it to df with columns eid and phone\n",
    "\n",
    "'''\n",
    "\n",
    "import sys\n",
    "import pandas as pd\n",
    "from fuzzywuzzy import fuzz\n",
    "\n",
    "df_txexAddr = pd.read_csv('TxExAddr.csv')\n",
    "print(\"original count \",len(df_txexAddr))\n",
    "\n",
    "df_Addr = df_txexAddr.dropna(how='all', subset=['Street'])\n",
    "print(\"Count records after dropping records with no address : \",len(df_Addr))\n",
    "#print(df_Addr.head(3))\n",
    "\n",
    "df_Addr = df_Addr[['EID', 'Street']]\n",
    "df_Addr['EID'] = df_Addr['EID'].str.upper()\n",
    "print(len(df_Addr))\n",
    "print(df_Addr.head(3))"
   ]
  },
  {
   "cell_type": "code",
   "execution_count": 2,
   "metadata": {},
   "outputs": [
    {
     "name": "stdout",
     "output_type": "stream",
     "text": [
      "58723\n",
      "             EID                  Street\n",
      "104696    CMH573     541 Magazine Avenue\n",
      "104697  JBAG7283  2800 Kirby Dr Apt A732\n",
      "104698   SMS4275      14242 Bateau Drive\n",
      "            EID                    Street\n",
      "166742  YC28968  27403 Rosewood Valley Dr\n",
      "166743  YC29226         6816 Schambray St\n",
      "166744  YC29237       16852 Tableland Trl\n"
     ]
    }
   ],
   "source": [
    "# dividing the large dataframe into multiple small dataframes\n",
    "df_addr_csv = df_Addr[100000:]\n",
    "print(len(df_addr_csv))\n",
    "print(df_addr_csv.head(3))\n",
    "print(df_addr_csv.tail(3))"
   ]
  },
  {
   "cell_type": "code",
   "execution_count": 3,
   "metadata": {
    "scrolled": true
   },
   "outputs": [],
   "source": [
    "raw_eid = df_addr_csv['EID'].dropna()\n",
    "eid = raw_eid.tolist()\n",
    "#print(len(eid))\n",
    "# How many elements each list should have \n",
    "n = 1000\n",
    "pid = {}\n",
    "for i in range((len(eid) + n - 1) // n ):\n",
    "    #globals()[\"eid\" + str(i)] = eid[i * n:(i + 1) * n]\n",
    "    pid[i] = eid[i * n:(i + 1) * n]"
   ]
  },
  {
   "cell_type": "code",
   "execution_count": 4,
   "metadata": {},
   "outputs": [],
   "source": [
    "import cx_Oracle\n",
    "connection = cx_Oracle.connect(\"vipapp/ZJf3__6qjRt8@exa1-scan.austin.utexas.edu:1525/viprp_pdb.austin.utexas.edu\")\n",
    "cursor = connection.cursor()\n",
    "df_addr_db = pd.DataFrame(columns = ['EID','Address1','Address2','City','State','Zip Code'])\n",
    "for i in range(50):\n",
    "    cursor.execute(\"select UT_EID, vi_addr_line1, vi_addr_line2, vi_city, vi_state,vi_zip from vi_vips_main m, vi_vips_addresses a  where m.ALUMNI_ID = a.ALUMNI_ID AND m.ut_eid IN %s\" % str(tuple(pid[i])).replace(',)',')'))\n",
    "    results = cursor.fetchall()\n",
    "    df1 = pd.DataFrame(results, columns = ['EID','Address1','Address2','City','State','Zip Code'])\n",
    "    df_addr_db = df_addr_db.append(df1,ignore_index=True)\n",
    "cursor.close()\n",
    "connection.close()                   "
   ]
  },
  {
   "cell_type": "code",
   "execution_count": 5,
   "metadata": {},
   "outputs": [
    {
     "name": "stdout",
     "output_type": "stream",
     "text": [
      "60226\n",
      "60162\n",
      "        EID                  Address1 Address2     City State     Zip Code\n",
      "0  0227QQEI         1687 Rachel Place     None    Vidor    TX  77662670687\n",
      "1  0227YDYA     7819 Leaf Point Court     None  Houston    TX  77095417919\n",
      "2  0293ZGHC  22126 Conquistador Drive     None   Crosby    TX  77532313326\n"
     ]
    }
   ],
   "source": [
    "print(len(df_addr_db))\n",
    "df_addr_db = df_addr_db.drop_duplicates()\n",
    "print(len(df_addr_db))\n",
    "print(df_addr_db.head(3))"
   ]
  },
  {
   "cell_type": "code",
   "execution_count": 6,
   "metadata": {},
   "outputs": [],
   "source": [
    "addr_diff = pd.DataFrame()\n",
    "for i in range(len(df_addr_csv)):\n",
    "#for i in (11,44,55,66,123,133,143,333,445,667,246,988):\n",
    "    flag = 0\n",
    "    id_csv = df_addr_csv.iloc[i,0]\n",
    "    csv_addr = df_addr_csv.iloc[i,1]\n",
    "    cmp_dbaddr = df_addr_db.loc[df_addr_db['EID'] == id_csv]\n",
    "    #print(cmp_dbaddr)\n",
    "    #print(df_addr_csv.loc[df_addr_csv['EID'] == id_csv])\n",
    "    #print(\"---\")\n",
    "    \n",
    "    for j in range(len(cmp_dbaddr)):\n",
    "        db_addr = cmp_dbaddr.iloc[j,1]\n",
    "        Token_Set_Ratio = fuzz.token_set_ratio(csv_addr,db_addr)\n",
    "        if (Token_Set_Ratio > 77):\n",
    "            flag = 0\n",
    "            break\n",
    "        else:\n",
    "            flag = 1\n",
    "    \n",
    "    #print(\"flag = \", flag)\n",
    "    \n",
    "    if (flag == 1):\n",
    "        addrlist = []\n",
    "        for k in range(len(cmp_dbaddr)):\n",
    "            temp = (cmp_dbaddr.loc[cmp_dbaddr['EID'] == id_csv]).iloc[:,1]\n",
    "            addrlist = temp.values.tolist()\n",
    "        addr_diff = addr_diff.append({'EID':id_csv, 'DB_Address':addrlist,'CSV_Address':csv_addr}, ignore_index=True)\n",
    "#print(\"----------------------------------------------------------------\")\n",
    "#print(addr_diff)\n",
    "#print(\"----------------------------------------------------------------\")"
   ]
  },
  {
   "cell_type": "code",
   "execution_count": 7,
   "metadata": {},
   "outputs": [
    {
     "name": "stdout",
     "output_type": "stream",
     "text": [
      "                               CSV_Address  \\\n",
      "0                   2800 Kirby Dr Apt A732   \n",
      "1   141 Old Short Hills Road Apartment 114   \n",
      "2                               PO Box 654   \n",
      "3                    3000 Rivercrest Drive   \n",
      "4                     6318 Box Bluff Court   \n",
      "5                           1501 Daly Road   \n",
      "6                     2408 Leon St Apt 115   \n",
      "7                     1507 Pease Rd Apt #5   \n",
      "8                        6513 Cahoba Drive   \n",
      "9                           P. O. Box 7437   \n",
      "10                   2515 Pearl St Apt 504   \n",
      "\n",
      "                                     DB_Address       EID  \n",
      "0         [1915 Country Club, 2800 Kirby Drive]  JBAG7283  \n",
      "1    [1606 Preston Trail, 8616 Beetle Nut Lane]  COTTONCE  \n",
      "2                            [106 Shiloh Drive]       MRB  \n",
      "3                        [5205 Leralynn Street]    MFR297  \n",
      "4                       [10811 Croftmore Drive]  WOODSSA3  \n",
      "5   [2401 El Salido Pkwy, 24127 Prestige Drive]   MJD2785  \n",
      "6        [710 Countryside Dr, 2408 Leon Street]   MET2663  \n",
      "7        [7507 Pine Cup Dr., 2606 Enfield Road]    LMO359  \n",
      "8                        [2848 Woodside Street]    RH4567  \n",
      "9                        [4035 Floyd Highway S]    KAT285  \n",
      "10       [13407 Missarah Ln, 2515 Pearl Street]   RLW3266  \n",
      "4075\n"
     ]
    }
   ],
   "source": [
    "print(addr_diff.head(11))\n",
    "print(len(addr_diff))"
   ]
  },
  {
   "cell_type": "code",
   "execution_count": 8,
   "metadata": {},
   "outputs": [],
   "source": [
    "addr_diff.to_csv(r'C:\\Users\\le5752\\Documents\\DB_Python\\addr3.csv', index = False)"
   ]
  },
  {
   "cell_type": "code",
   "execution_count": null,
   "metadata": {},
   "outputs": [],
   "source": []
  }
 ],
 "metadata": {
  "kernelspec": {
   "display_name": "Python 3",
   "language": "python",
   "name": "python3"
  },
  "language_info": {
   "codemirror_mode": {
    "name": "ipython",
    "version": 3
   },
   "file_extension": ".py",
   "mimetype": "text/x-python",
   "name": "python",
   "nbconvert_exporter": "python",
   "pygments_lexer": "ipython3",
   "version": "3.7.7"
  }
 },
 "nbformat": 4,
 "nbformat_minor": 4
}
