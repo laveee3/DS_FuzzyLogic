{
 "cells": [
  {
   "cell_type": "code",
   "execution_count": 13,
   "metadata": {},
   "outputs": [
    {
     "name": "stdout",
     "output_type": "stream",
     "text": [
      "original count  2200\n",
      "Count records after dropping records with no address :  1956\n",
      "1956\n",
      "        EID                  Mailing Street\n",
      "0    TO3269  5130 Fulton Street Apartment 3\n",
      "1  0563NUMT              8406 La Plata Loop\n",
      "2     KSN99                      PO Box 517\n"
     ]
    }
   ],
   "source": [
    "'''1. Remove foreign records to a 'foreign dataframe' and delete them from this df. - applicable for  address\n",
    "2.Find whether all phone numbers are empty, if empty drop those rows (8708)\n",
    "3.Column Phone matches the Phone number in preferred phone number\n",
    "Transfer records with non-null values in Phone to a new dataframe with columns EID and phone\n",
    "Find the count of records (124000)\n",
    "4. Null values in Phone: (36000 records) Create a new df:Check the content in preferred phone \n",
    "and grasp the preferred phone and add it to df with columns eid and phone\n",
    "\n",
    "'''\n",
    "\n",
    "import sys\n",
    "import pandas as pd\n",
    "from fuzzywuzzy import fuzz\n",
    "\n",
    "df_txexAddr = pd.read_csv('TexasExes.csv')\n",
    "print(\"original count \",len(df_txexAddr))\n",
    "df_txexAddr = df_txexAddr[['EID', 'Mailing Street', 'Mailing City', 'Mailing State/Province', 'Mailing Zip/Postal Code', 'Mailing Country', 'Primary Address Type', 'TE_Current_Address_Updated', 'Other Street', 'Other City', 'Other State/Province', 'Other Zip/Postal Code', 'Other Country']]\n",
    "\n",
    "df_Addr = df_txexAddr.dropna(how='all', subset=['Mailing Street'])\n",
    "print(\"Count records after dropping records with no address : \",len(df_Addr))\n",
    "#print(df_Addr.head(3))\n",
    "\n",
    "df_Addr = df_Addr[['EID', 'Mailing Street']]\n",
    "df_Addr['EID'] = df_Addr['EID'].str.upper()\n",
    "print(len(df_Addr))\n",
    "print(df_Addr.head(3))"
   ]
  },
  {
   "cell_type": "code",
   "execution_count": 14,
   "metadata": {},
   "outputs": [
    {
     "name": "stdout",
     "output_type": "stream",
     "text": [
      "1956\n",
      "        EID                  Mailing Street\n",
      "0    TO3269  5130 Fulton Street Apartment 3\n",
      "1  0563NUMT              8406 La Plata Loop\n",
      "2     KSN99                      PO Box 517\n",
      "           EID           Mailing Street\n",
      "2196  0733MAUD        516 Saginaw Court\n",
      "2197  VIELMAVM  5728 Cedar Grove Circle\n",
      "2199   BLUMJR1        30520 Lynne Drive\n"
     ]
    }
   ],
   "source": [
    "# dividing the large dataframe into multiple small dataframes\n",
    "df_addr_csv = df_Addr\n",
    "print(len(df_addr_csv))\n",
    "print(df_addr_csv.head(3))\n",
    "print(df_addr_csv.tail(3))"
   ]
  },
  {
   "cell_type": "code",
   "execution_count": 16,
   "metadata": {
    "scrolled": true
   },
   "outputs": [],
   "source": [
    "raw_eid = df_addr_csv['EID'].dropna()\n",
    "eid = raw_eid.tolist()\n",
    "#print(len(eid))\n",
    "# How many elements each list should have \n",
    "n = 1000\n",
    "pid = {}\n",
    "for i in range((len(eid) + n - 1) // n ):\n",
    "    #globals()[\"eid\" + str(i)] = eid[i * n:(i + 1) * n]\n",
    "    pid[i] = eid[i * n:(i + 1) * n]"
   ]
  },
  {
   "cell_type": "code",
   "execution_count": 18,
   "metadata": {},
   "outputs": [],
   "source": [
    "import cx_Oracle\n",
    "connection = cx_Oracle.connect(\"xxxx/Zyyy@ea.y.z.com:1525/z.x.y.com\")\n",
    "cursor = connection.cursor()\n",
    "df_addr_db = pd.DataFrame(columns = ['EID','Address1','Address2','City','State','Zip Code'])\n",
    "for i in range(2):\n",
    "    cursor.execute(\"select UT_EID, vi_addr_line1, vi_addr_line2, vi_city, vi_state,vi_zip from vi_vips_main m, vi_vips_addresses a  where m.ALUMNI_ID = a.ALUMNI_ID AND m.ut_eid IN %s\" % str(tuple(pid[i])).replace(',)',')'))\n",
    "    results = cursor.fetchall()\n",
    "    df1 = pd.DataFrame(results, columns = ['EID','Address1','Address2','City','State','Zip Code'])\n",
    "    df_addr_db = df_addr_db.append(df1,ignore_index=True)\n",
    "cursor.close()\n",
    "connection.close()                   "
   ]
  },
  {
   "cell_type": "code",
   "execution_count": 19,
   "metadata": {},
   "outputs": [
    {
     "name": "stdout",
     "output_type": "stream",
     "text": [
      "2276\n",
      "2275\n",
      "        EID              Address1 Address2        City State     Zip Code\n",
      "0  0222BVZW  4928 Brookburn Drive     None   San Diego    CA  92130277828\n",
      "1  0229PXTR         P. O. Box 965     None  Gatesville    TX  76528096565\n",
      "2  0229VVHV          2515 Redondo     None    Amarillo    TX  79107641115\n"
     ]
    }
   ],
   "source": [
    "print(len(df_addr_db))\n",
    "df_addr_db = df_addr_db.drop_duplicates()\n",
    "print(len(df_addr_db))\n",
    "print(df_addr_db.head(3))"
   ]
  },
  {
   "cell_type": "code",
   "execution_count": 20,
   "metadata": {},
   "outputs": [],
   "source": [
    "addr_diff = pd.DataFrame()\n",
    "for i in range(len(df_addr_csv)):\n",
    "#for i in (11,44,55,66,123,133,143,333,445,667,246,988):\n",
    "    flag = 0\n",
    "    id_csv = df_addr_csv.iloc[i,0]\n",
    "    csv_addr = df_addr_csv.iloc[i,1]\n",
    "    cmp_dbaddr = df_addr_db.loc[df_addr_db['EID'] == id_csv]\n",
    "    #print(cmp_dbaddr)\n",
    "    #print(df_addr_csv.loc[df_addr_csv['EID'] == id_csv])\n",
    "    #print(\"---\")\n",
    "    \n",
    "    for j in range(len(cmp_dbaddr)):\n",
    "        db_addr = cmp_dbaddr.iloc[j,1]\n",
    "        Token_Set_Ratio = fuzz.token_set_ratio(csv_addr,db_addr)\n",
    "        if (Token_Set_Ratio > 77):\n",
    "            flag = 0\n",
    "            break\n",
    "        else:\n",
    "            flag = 1\n",
    "    \n",
    "    #print(\"flag = \", flag)\n",
    "    \n",
    "    if (flag == 1):\n",
    "        addrlist = []\n",
    "        for k in range(len(cmp_dbaddr)):\n",
    "            temp = (cmp_dbaddr.loc[cmp_dbaddr['EID'] == id_csv]).iloc[:,1]\n",
    "            addrlist = temp.values.tolist()\n",
    "        addr_diff = addr_diff.append({'EID':id_csv, 'DB_Address':addrlist,'CSV_Address':csv_addr}, ignore_index=True)\n",
    "#print(\"----------------------------------------------------------------\")\n",
    "#print(addr_diff)\n",
    "#print(\"----------------------------------------------------------------\")"
   ]
  },
  {
   "cell_type": "code",
   "execution_count": 21,
   "metadata": {},
   "outputs": [
    {
     "name": "stdout",
     "output_type": "stream",
     "text": [
      "                              CSV_Address  \\\n",
      "0          5130 Fulton Street Apartment 3   \n",
      "1                       201 N 36th Avenue   \n",
      "2                       3470 Brentwood Dr   \n",
      "3                     1712 Cherokee Place   \n",
      "4                        6151 Ella Lee Ln   \n",
      "5   8215 Cypresswood Drive Apartment 2104   \n",
      "6                        148 Stanley Road   \n",
      "7           2900 W Anderson Ln  Ste C-200   \n",
      "8                        1510 College Ave   \n",
      "9              3215 Exposition Blvd #B-21   \n",
      "10                   13051 Whittington Dr   \n",
      "\n",
      "                                           DB_Address       EID  \n",
      "0   [4531 Nassau Drive, 3202 W Las Positas Boulevard]    TO3269  \n",
      "1                                [1203 Market Street]  MORGANJP  \n",
      "2                        [165 Central Caldwood Drive]   GGIGLIO  \n",
      "3                                 [6635 Genstar Lane]    JWD654  \n",
      "4                              [23540 Macedonia Road]     JJF96  \n",
      "5              [Yonhuidong 55, 10710 Idlebrook Drive]     FLYML  \n",
      "6                                [1330 Centre Street]  0635RVRC  \n",
      "7                           [2900 West Anderson Lane]  GLOSUPJC  \n",
      "8                         [221 West Lancaster Avenue]  SESSIONS  \n",
      "9                                    [P. O. Box 5625]   0MQZIU4  \n",
      "10          [156 Bau Cat 1 Street, Ward 12, Tan binh]    TN9432  \n",
      "147\n"
     ]
    }
   ],
   "source": [
    "print(addr_diff.head(11))\n",
    "print(len(addr_diff))"
   ]
  },
  {
   "cell_type": "code",
   "execution_count": 22,
   "metadata": {},
   "outputs": [],
   "source": [
    "addr_diff.to_csv(r'C:\\Users\\le5752\\Documents\\DB_Python\\addr3.csv', index = False)"
   ]
  },
  {
   "cell_type": "code",
   "execution_count": null,
   "metadata": {},
   "outputs": [],
   "source": []
  }
 ],
 "metadata": {
  "kernelspec": {
   "display_name": "Python 3",
   "language": "python",
   "name": "python3"
  },
  "language_info": {
   "codemirror_mode": {
    "name": "ipython",
    "version": 3
   },
   "file_extension": ".py",
   "mimetype": "text/x-python",
   "name": "python",
   "nbconvert_exporter": "python",
   "pygments_lexer": "ipython3",
   "version": "3.7.7"
  }
 },
 "nbformat": 4,
 "nbformat_minor": 4
}
