{
 "cells": [
  {
   "cell_type": "code",
   "execution_count": 40,
   "metadata": {},
   "outputs": [],
   "source": [
    "# importing pandas module   \n",
    "import pandas as pd   \n",
    "      \n",
    "# making data frame   \n",
    "df_addr = pd.read_csv(r\"C:\\Users\\le5752\\Documents\\DB_Python\\AddrDiff.csv\")   \n",
    "df_phone = pd.read_csv(r\"C:\\Users\\le5752\\Documents\\DB_Python\\PhoneDiff.csv\") \n",
    "df_email = pd.read_csv(r\"C:\\Users\\le5752\\Documents\\DB_Python\\EmailsDiff.csv\") \n",
    "\n",
    "#df_email.head(10) \n",
    "#df_phone.head(10)\n",
    "#df_addr.head(10)\n"
   ]
  },
  {
   "cell_type": "code",
   "execution_count": 41,
   "metadata": {},
   "outputs": [
    {
     "name": "stdout",
     "output_type": "stream",
     "text": [
      "                      CSV_Address  \\\n",
      "0  5130 Fulton Street Apartment 3   \n",
      "1               201 N 36th Avenue   \n",
      "2               3470 Brentwood Dr   \n",
      "\n",
      "                                          DB_Address       EID Email_csv  \\\n",
      "0  ['4531 Nassau Drive', '3202 W Las Positas Boul...    TO3269       NaN   \n",
      "1                             ['1203 Market Street']  MORGANJP       NaN   \n",
      "2                     ['165 Central Caldwood Drive']   GGIGLIO       NaN   \n",
      "\n",
      "  Email_db  telephone DB_phone  \n",
      "0      NaN        NaN      NaN  \n",
      "1      NaN        NaN      NaN  \n",
      "2      NaN        NaN      NaN  \n",
      "365\n"
     ]
    }
   ],
   "source": [
    "E_P_merge = pd.merge(df_email, df_phone, how='outer');\n",
    "AEP_merged = pd.merge(df_addr, E_P_merge, how='outer');\n",
    "#result1.to_csv(r'C:\\Users\\le5752\\Documents\\DB_Python\\fFinal.csv', index = False)\n",
    "print(AEP_merged.head(3))\n",
    "print(len(AEP_merged ))"
   ]
  },
  {
   "cell_type": "code",
   "execution_count": 42,
   "metadata": {},
   "outputs": [
    {
     "name": "stdout",
     "output_type": "stream",
     "text": [
      "AEP :  2\n",
      "AE :  4\n",
      "A :  127\n",
      "AP :  14\n",
      "EP :  13\n",
      "P :  143\n",
      "E :  62\n"
     ]
    }
   ],
   "source": [
    "df_AEP = AEP_merged[(AEP_merged.CSV_Address.notnull())&(AEP_merged.Email_csv.notnull())&(AEP_merged.telephone.notnull())]\n",
    "print(\"AEP : \", len(df_AEP))\n",
    "\n",
    "df_AE = AEP_merged[(AEP_merged.CSV_Address.notnull())&(AEP_merged.Email_csv.notnull())&(AEP_merged.telephone.isnull())]\n",
    "print(\"AE : \", len(df_AE))\n",
    "\n",
    "df_A = AEP_merged[(AEP_merged.CSV_Address.notnull())&(AEP_merged.Email_csv.isnull())&(AEP_merged.telephone.isnull())]\n",
    "print(\"A : \", len(df_A))\n",
    "\n",
    "df_AP = AEP_merged[(AEP_merged.CSV_Address.notnull())&(AEP_merged.Email_csv.isnull())&(AEP_merged.telephone.notnull())]\n",
    "print(\"AP : \", len(df_AP))\n",
    "\n",
    "df_EP = AEP_merged[(AEP_merged.CSV_Address.isnull())&(AEP_merged.Email_csv.notnull())&(AEP_merged.telephone.notnull())]\n",
    "print(\"EP : \", len(df_EP))\n",
    "\n",
    "df_P = AEP_merged[(AEP_merged.CSV_Address.isnull())&(AEP_merged.Email_csv.isnull())&(AEP_merged.telephone.notnull())]\n",
    "print(\"P : \", len(df_P))\n",
    "\n",
    "df_E = AEP_merged[(AEP_merged.CSV_Address.isnull())&(AEP_merged.Email_csv.notnull())&(AEP_merged.telephone.isnull())]\n",
    "print(\"E : \", len(df_E))"
   ]
  },
  {
   "cell_type": "code",
   "execution_count": 44,
   "metadata": {},
   "outputs": [
    {
     "name": "stdout",
     "output_type": "stream",
     "text": [
      "The below Venn diagram shows the number of EID with changes in address, phone, number\n"
     ]
    },
    {
     "data": {
      "image/png": "[encoded data removed]",
      "text/plain": [
       "<Figure size 432x288 with 1 Axes>"
      ]
     },
     "metadata": {},
     "output_type": "display_data"
    }
   ],
   "source": [
    "from matplotlib_venn import venn2, venn2_circles, venn2_unweighted\n",
    "from matplotlib_venn import venn3, venn3_circles\n",
    "from matplotlib import pyplot as plt\n",
    "\n",
    "#venn3(subsets = (A,B,AB,C,AC,BC,ABC), set_labels = ('A', 'B', 'C'), alpha = 0.5);\n",
    "print(\"The below Venn diagram shows the number of EID with changes in address, phone, number\")\n",
    "venn3(subsets = (len(df_A), len(df_E),len(df_AE),len(df_P), len(df_AP),  len(df_EP),len(df_AEP)), set_labels = ('Address', 'E-mail', 'Phone'), alpha = 0.5);\n"
   ]
  },
  {
   "cell_type": "code",
   "execution_count": 39,
   "metadata": {},
   "outputs": [],
   "source": [
    "df_AEP.to_csv(r'C:\\Users\\le5752\\Documents\\DB_Python\\AEP.csv', index = False)\n",
    "df_AE.to_csv(r'C:\\Users\\le5752\\Documents\\DB_Python\\AE.csv', index = False)\n",
    "df_AP.to_csv(r'C:\\Users\\le5752\\Documents\\DB_Python\\AP.csv', index = False)\n",
    "df_EP.to_csv(r'C:\\Users\\le5752\\Documents\\DB_Python\\EP.csv', index = False)\n",
    "df_A.to_csv(r'C:\\Users\\le5752\\Documents\\DB_Python\\A.csv', index = False)\n",
    "df_E.to_csv(r'C:\\Users\\le5752\\Documents\\DB_Python\\E.csv', index = False)\n",
    "df_P.to_csv(r'C:\\Users\\le5752\\Documents\\DB_Python\\P.csv', index = False)"
   ]
  },
  {
   "cell_type": "code",
   "execution_count": null,
   "metadata": {},
   "outputs": [],
   "source": []
  }
 ],
 "metadata": {
  "kernelspec": {
   "display_name": "Python 3",
   "language": "python",
   "name": "python3"
  },
  "language_info": {
   "codemirror_mode": {
    "name": "ipython",
    "version": 3
   },
   "file_extension": ".py",
   "mimetype": "text/x-python",
   "name": "python",
   "nbconvert_exporter": "python",
   "pygments_lexer": "ipython3",
   "version": "3.7.7"
  }
 },
 "nbformat": 4,
 "nbformat_minor": 4
}
