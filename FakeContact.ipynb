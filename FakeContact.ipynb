{
 "cells": [
  {
   "cell_type": "code",
   "execution_count": 40,
   "metadata": {},
   "outputs": [
    {
     "name": "stdout",
     "output_type": "stream",
     "text": [
      "                                             address   birthdate blood_group  \\\n",
      "0        29115 Thompson Fork\\nWest Adamton, NH 71470  1917-09-03          O-   \n",
      "1  5208 Holly Stravenue Apt. 227\\nWest Brettport,...  1923-08-13          B+   \n",
      "\n",
      "          company           current_location                       job  \\\n",
      "0  Zavala-Oconnor  (-46.3334035, -56.164207)            Hydrogeologist   \n",
      "1   King and Sons  (-53.1545625, -89.265346)  Waste management officer   \n",
      "\n",
      "                 mail           name  \\\n",
      "0  taylor79@gmail.com     Scott Carr   \n",
      "1  elijah49@gmail.com  Carl Valencia   \n",
      "\n",
      "                                           residence sex          ssn  \\\n",
      "0                         USNS Salinas\\nFPO AP 17012   M  461-59-8236   \n",
      "1  170 Bonnie Union Suite 044\\nPort Stephanieberg...   M  252-83-2188   \n",
      "\n",
      "        username                                       website  \n",
      "0  malonecharles  [http://small.com/, https://solis-gray.com/]  \n",
      "1        jacob49                     [http://www.ramirez.com/]  \n"
     ]
    }
   ],
   "source": [
    "from faker import Faker\n",
    "import pandas as pd\n",
    "faker = Faker()\n",
    "df = pd.DataFrame()\n",
    "for i in range(100):\n",
    "    df = df.append(faker.profile(), ignore_index=True)\n",
    "    \n",
    "print(df.head(2))"
   ]
  },
  {
   "cell_type": "code",
   "execution_count": 38,
   "metadata": {},
   "outputs": [],
   "source": [
    "#we would like to split address into multiple columns as street(address line 1), address line 2, state n zip...this is part of data formatting to align with the database\n",
    "new = pd.DataFrame()\n",
    "for k in range(len(df)):\n",
    "    temp = df.iloc[k,0]\n",
    "    temp = temp.replace(\"\\n\",\", \")\n",
    "    addr = temp.split(\", \")\n",
    "    #print(len(addr))\n",
    "    if len(addr) > 2:\n",
    "        new = new.append({'username': df.iloc[k,11], 'Name': df.iloc[k,7], 'Street': addr[0], 'AddrLine2':addr[1], 'StateZip':addr[2], 'mail': df.iloc[k,6]}, ignore_index=True)\n",
    "    else:\n",
    "        new = new.append({'username': df.iloc[k,11], 'Name': df.iloc[k,7], 'Street': addr[0], 'AddrLine2':addr[1], 'mail': df.iloc[k,6]}, ignore_index=True)\n"
   ]
  },
  {
   "cell_type": "code",
   "execution_count": 41,
   "metadata": {},
   "outputs": [
    {
     "name": "stdout",
     "output_type": "stream",
     "text": [
      "              AddrLine2                Name  StateZip  \\\n",
      "0      Port Connorville  Anthony Thomas DVM  NM 71043   \n",
      "1           Port Alyssa     Valerie Barrera  MA 84433   \n",
      "2            Beardburgh    Melissa Anderson  NJ 49740   \n",
      "3      New Rebeccamouth       Jason Kennedy  MI 82754   \n",
      "4            South Chad       Thomas Robles  MT 53572   \n",
      "5          Hayeschester     Taylor Martinez  ME 37261   \n",
      "6             Whitebury     Laura Maldonado  MS 46105   \n",
      "7      Port Janechester       Brandon Myers  NY 61543   \n",
      "8          DPO AA 89069      William Chavez       NaN   \n",
      "9            Whiteburgh       Holly Jackson  KS 62997   \n",
      "10         Rebeccamouth        Mark Freeman  MO 83479   \n",
      "11         FPO AE 51618       Angela Fields       NaN   \n",
      "12          Hancockport         Anita Scott  OR 96926   \n",
      "13   Lake Autumnborough        Dana Stewart  CT 99124   \n",
      "14           Jamesmouth       Jack Odonnell  SD 18844   \n",
      "15         DPO AP 99475        Edward Green       NaN   \n",
      "16          North Bruce         Leslie Huff  IA 98843   \n",
      "17       Port Jamesstad         Brandi Duke  CO 67903   \n",
      "18           Doyleville       Richard Smith  NC 53061   \n",
      "19     West Christopher        Michael Ford  RI 36883   \n",
      "20  South Courtneyshire          Paula King  IA 81890   \n",
      "21            New David          Donna Cook  ID 67112   \n",
      "22           Morrisport       Tyler Spencer  KS 03269   \n",
      "23         South Cheryl       Nicole Daniel  ME 82408   \n",
      "24           Joannaside      Brandon Nelson  NH 88506   \n",
      "\n",
      "                            Street                         mail  \\\n",
      "0               532 Michael Radial          anthony52@gmail.com   \n",
      "1          91083 Christopher Field       kelleythomas@yahoo.com   \n",
      "2     5324 Donna Station Suite 578        mooredaniel@gmail.com   \n",
      "3               02930 Collins Dale          brandon51@gmail.com   \n",
      "4                   1626 Love Ford              lford@gmail.com   \n",
      "5                307 Brian Viaduct           sserrano@yahoo.com   \n",
      "6               285 Nguyen Gardens            psuarez@gmail.com   \n",
      "7        12378 Lisa Ways Suite 065     millerpatricia@gmail.com   \n",
      "8               Unit 4390 Box 1717      robertgreen@hotmail.com   \n",
      "9    88583 Bryan Centers Suite 295        stephanie85@yahoo.com   \n",
      "10  772 Harris Extension Suite 504             kbrown@gmail.com   \n",
      "11                     USNV Gentry       jessicasmith@gmail.com   \n",
      "12               3624 Melissa Fall          mikecarey@gmail.com   \n",
      "13            774 Michelle Freeway      melissaharris@gmail.com   \n",
      "14               1331 Fuller Mount        molinajulie@gmail.com   \n",
      "15              Unit 5588 Box 7739       comptonjesse@gmail.com   \n",
      "16                8495 Moon Shoals       forbesrhonda@yahoo.com   \n",
      "17     102 Michael Fords Suite 849    thompsonshirley@yahoo.com   \n",
      "18               10524 Tran Canyon       sarahchase@hotmail.com   \n",
      "19       10365 Ricky Pine Apt. 841  williamsstephanie@gmail.com   \n",
      "20                  026 Smith Oval       nelsonbailey@gmail.com   \n",
      "21    99752 Farrell Ford Suite 505            vgeorge@gmail.com   \n",
      "22     792 Desiree Island Apt. 612          rpotter@hotmail.com   \n",
      "23      2173 David Flats Suite 769        longheather@yahoo.com   \n",
      "24    6734 Mejia Squares Suite 989         ayalasarah@yahoo.com   \n",
      "\n",
      "           username  \n",
      "0            glewis  \n",
      "1     wallssamantha  \n",
      "2         melanie05  \n",
      "3           nbecker  \n",
      "4      weaverlauren  \n",
      "5            gary15  \n",
      "6           orhodes  \n",
      "7          davidlee  \n",
      "8           fgamble  \n",
      "9    michaelherrera  \n",
      "10         zjohnson  \n",
      "11       michelle77  \n",
      "12      briandunlap  \n",
      "13       erinarnold  \n",
      "14           vadams  \n",
      "15         grayseth  \n",
      "16  middletoncolton  \n",
      "17        lindsay97  \n",
      "18         cshelton  \n",
      "19    tiffanymiller  \n",
      "20      catherine07  \n",
      "21  christiejohnson  \n",
      "22           kreyes  \n",
      "23     amandafisher  \n",
      "24         ginarice  \n"
     ]
    }
   ],
   "source": [
    "recent_contact_info = new\n",
    "del new, df\n",
    "print(recent_contact_info.head(25))"
   ]
  },
  {
   "cell_type": "code",
   "execution_count": 43,
   "metadata": {},
   "outputs": [],
   "source": [
    "recent_contact_info.to_csv(r'C:\\Users\\lavan\\Documents\\Program\\recent_ContactInfo.csv', index = False)"
   ]
  }
 ],
 "metadata": {
  "kernelspec": {
   "display_name": "Python 3",
   "language": "python",
   "name": "python3"
  },
  "language_info": {
   "codemirror_mode": {
    "name": "ipython",
    "version": 3
   },
   "file_extension": ".py",
   "mimetype": "text/x-python",
   "name": "python",
   "nbconvert_exporter": "python",
   "pygments_lexer": "ipython3",
   "version": "3.7.3"
  }
 },
 "nbformat": 4,
 "nbformat_minor": 2
}
