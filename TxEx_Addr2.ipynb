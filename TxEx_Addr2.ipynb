{
 "cells": [
  {
   "cell_type": "code",
   "execution_count": 1,
   "metadata": {},
   "outputs": [
    {
     "name": "stdout",
     "output_type": "stream",
     "text": [
      "original count  166745\n",
      "Count records after dropping records with no address :  158723\n",
      "        EID                   Street     City     State         Zip  \\\n",
      "0    evr253  1715 gosnell rd apt 104   Vienna  Virginia       22182   \n",
      "1     cen95        1808 Intervail Dr   Austin        TX       78746   \n",
      "2  goldenr1   5735 Diamond Point Cir  El Paso        TX  79912-4160   \n",
      "\n",
      "         Country Primary Address Type TE_Current_Address_Updated  \\\n",
      "0  United Statea                 Home             9/5/2019 23:01   \n",
      "1  United States                 Home            2/25/2020 11:37   \n",
      "2  United States                 Home             7/2/2020 10:09   \n",
      "\n",
      "                                        Other Street Other City  \\\n",
      "0                                                NaN        NaN   \n",
      "1             Westlake High School\\n4100 Westbank Dr     Austin   \n",
      "2  Western Hills Elementary School 530 Thunderbir...    El Paso   \n",
      "\n",
      "  Other State/Province Other Zip/Postal Code Other Country  \\\n",
      "0                  NaN                   NaN           NaN   \n",
      "1                   TX                 78746            US   \n",
      "2                   TX            79912-3315           NaN   \n",
      "\n",
      "  TE Other Address Info Updated  \n",
      "0                           NaN  \n",
      "1               2/25/2020 11:32  \n",
      "2                           NaN  \n",
      "158723\n",
      "        EID                   Street\n",
      "0    EVR253  1715 gosnell rd apt 104\n",
      "1     CEN95        1808 Intervail Dr\n",
      "2  GOLDENR1   5735 Diamond Point Cir\n"
     ]
    },
    {
     "name": "stderr",
     "output_type": "stream",
     "text": [
      "C:\\Users\\le5752\\Anaconda3\\lib\\site-packages\\IPython\\core\\interactiveshell.py:3063: DtypeWarning: Columns (5,8) have mixed types.Specify dtype option on import or set low_memory=False.\n",
      "  interactivity=interactivity, compiler=compiler, result=result)\n"
     ]
    }
   ],
   "source": [
    "'''1. Remove foreign records to a 'foreign dataframe' and delete them from this df. - applicable for  address\n",
    "2.Find whether all phone numbers are empty, if empty drop those rows (8708)\n",
    "3.Column Phone matches the Phone number in preferred phone number\n",
    "Transfer records with non-null values in Phone to a new dataframe with columns EID and phone\n",
    "Find the count of records (124000)\n",
    "4. Null values in Phone: (36000 records) Create a new df:Check the content in preferred phone \n",
    "and grasp the preferred phone and add it to df with columns eid and phone\n",
    "\n",
    "'''\n",
    "\n",
    "import sys\n",
    "import pandas as pd\n",
    "from fuzzywuzzy import fuzz\n",
    "\n",
    "df_txexAddr = pd.read_csv('TxExAddr.csv')\n",
    "print(\"original count \",len(df_txexAddr))\n",
    "\n",
    "df_Addr = df_txexAddr.dropna(how='all', subset=['Street'])\n",
    "print(\"Count records after dropping records with no address : \",len(df_Addr))\n",
    "#print(df_Addr.head(3))\n",
    "\n",
    "df_Addr = df_Addr[['EID', 'Street']]\n",
    "df_Addr['EID'] = df_Addr['EID'].str.upper()\n",
    "print(len(df_Addr))\n",
    "print(df_Addr.head(3))"
   ]
  },
  {
   "cell_type": "code",
   "execution_count": 4,
   "metadata": {},
   "outputs": [
    {
     "name": "stdout",
     "output_type": "stream",
     "text": [
      "50000\n",
      "            EID                 Street\n",
      "50544  0499FJZD  7807 Moonflower Drive\n",
      "50545    RRW372        5929 Merritt Pl\n",
      "50546   GIRDYGO     2041 Snyder Avenue\n",
      "             EID                                 Street\n",
      "104693  0926JGMY                  6019 San Paublo Court\n",
      "104694    NAJOLI  2611 Bens Branch Drive Apartment 2414\n",
      "104695    CVC464                      455 Kayton Avenue\n"
     ]
    }
   ],
   "source": [
    "df_addr_csv = df_Addr[50000:100000]\n",
    "print(len(df_addr_csv))\n",
    "print(df_addr_csv.head(3))\n",
    "print(df_addr_csv.tail(3))"
   ]
  },
  {
   "cell_type": "code",
   "execution_count": 5,
   "metadata": {
    "scrolled": true
   },
   "outputs": [],
   "source": [
    "raw_eid = df_addr_csv['EID'].dropna()\n",
    "eid = raw_eid.tolist()\n",
    "#print(len(eid))\n",
    "# How many elements each list should have \n",
    "n = 1000\n",
    "pid = {}\n",
    "for i in range((len(eid) + n - 1) // n ):\n",
    "    #globals()[\"eid\" + str(i)] = eid[i * n:(i + 1) * n]\n",
    "    pid[i] = eid[i * n:(i + 1) * n]"
   ]
  },
  {
   "cell_type": "code",
   "execution_count": 6,
   "metadata": {},
   "outputs": [],
   "source": [
    "import cx_Oracle\n",
    "connection = cx_Oracle.connect(\"vipapp/ZJf3__6qjRt8@exa1-scan.austin.utexas.edu:1525/viprp_pdb.austin.utexas.edu\")\n",
    "cursor = connection.cursor()\n",
    "df_addr_db = pd.DataFrame(columns = ['EID','Address1','Address2','City','State','Zip Code'])\n",
    "for i in range(50):\n",
    "    cursor.execute(\"select UT_EID, vi_addr_line1, vi_addr_line2, vi_city, vi_state,vi_zip from vi_vips_main m, vi_vips_addresses a  where m.ALUMNI_ID = a.ALUMNI_ID AND m.ut_eid IN %s\" % str(tuple(pid[i])).replace(',)',')'))\n",
    "    results = cursor.fetchall()\n",
    "    df1 = pd.DataFrame(results, columns = ['EID','Address1','Address2','City','State','Zip Code'])\n",
    "    df_addr_db = df_addr_db.append(df1,ignore_index=True)\n",
    "cursor.close()\n",
    "connection.close()                   "
   ]
  },
  {
   "cell_type": "code",
   "execution_count": 7,
   "metadata": {},
   "outputs": [
    {
     "name": "stdout",
     "output_type": "stream",
     "text": [
      "63409\n",
      "63263\n",
      "        EID                      Address1     Address2        City State  \\\n",
      "0  0229QPAH  12912 Hill Country Boulevard  Suite F-240      Austin    TX   \n",
      "1  0243MRGU          3208 Pond View Drive         None  Richardson    TX   \n",
      "2  0249JGRZ                 13033 FM 2769         None      Austin    TX   \n",
      "\n",
      "      Zip Code  \n",
      "0  78738649960  \n",
      "1  75082245408  \n",
      "2  78726101633  \n"
     ]
    }
   ],
   "source": [
    "print(len(df_addr_db))\n",
    "df_addr_db = df_addr_db.drop_duplicates()\n",
    "print(len(df_addr_db))\n",
    "print(df_addr_db.head(3))"
   ]
  },
  {
   "cell_type": "code",
   "execution_count": 8,
   "metadata": {},
   "outputs": [],
   "source": [
    "addr_diff = pd.DataFrame()\n",
    "for i in range(len(df_addr_csv)):\n",
    "#for i in (11,44,55,66,123,133,143,333,445,667,246,988):\n",
    "    flag = 0\n",
    "    id_csv = df_addr_csv.iloc[i,0]\n",
    "    csv_addr = df_addr_csv.iloc[i,1]\n",
    "    cmp_dbaddr = df_addr_db.loc[df_addr_db['EID'] == id_csv]\n",
    "    #print(cmp_dbaddr)\n",
    "    #print(df_addr_csv.loc[df_addr_csv['EID'] == id_csv])\n",
    "    #print(\"---\")\n",
    "    \n",
    "    for j in range(len(cmp_dbaddr)):\n",
    "        db_addr = cmp_dbaddr.iloc[j,1]\n",
    "        Token_Set_Ratio = fuzz.token_set_ratio(csv_addr,db_addr)\n",
    "        if (Token_Set_Ratio > 77):\n",
    "            flag = 0\n",
    "            break\n",
    "        else:\n",
    "            flag = 1\n",
    "    \n",
    "    #print(\"flag = \", flag)\n",
    "    \n",
    "    if (flag == 1):\n",
    "        addrlist = []\n",
    "        for k in range(len(cmp_dbaddr)):\n",
    "            temp = (cmp_dbaddr.loc[cmp_dbaddr['EID'] == id_csv]).iloc[:,1]\n",
    "            addrlist = temp.values.tolist()\n",
    "        addr_diff = addr_diff.append({'EID':id_csv, 'DB_Address':addrlist,'CSV_Address':csv_addr}, ignore_index=True)\n",
    "#print(\"----------------------------------------------------------------\")\n",
    "#print(addr_diff)\n",
    "#print(\"----------------------------------------------------------------\")"
   ]
  },
  {
   "cell_type": "code",
   "execution_count": 9,
   "metadata": {},
   "outputs": [
    {
     "name": "stdout",
     "output_type": "stream",
     "text": [
      "                             CSV_Address  \\\n",
      "0                        5929 Merritt Pl   \n",
      "1          9 Kimball Court Apartment 205   \n",
      "2                  945 N Marion St Apt 3   \n",
      "3   401 Teravista Pkwy     Apartment 426   \n",
      "4                       504 Pheasant Rdg   \n",
      "5                1904 Woodland Ave Apt A   \n",
      "6                       5315 Dora Street   \n",
      "7                      107 OMeara circle   \n",
      "8                       4690 Darlene Way   \n",
      "9                           5141 Hartson   \n",
      "10                       1203 S. Gumwood   \n",
      "\n",
      "                                           DB_Address       EID  \n",
      "0   [1313 Old Chain Bridge Road, 3105 Cambridge Dr...    RRW372  \n",
      "1   [13131 West Little York Road, 197 Washington S...     PMR68  \n",
      "2                                 [922 Old Lake Road]   SMS3977  \n",
      "3   [10926 Jollyville Road, 1311 Round Rock Avenue...  EGARDNER  \n",
      "4      [1311 Round Rock Avenue, 2439 Cloud Peak Lane]    RFM285  \n",
      "5                [PSC 3, 2317 S Pleasant Valley Road]     LDP96  \n",
      "6               [1310 Prairie Street, 2523 Iris Lane]  YANCEYMD  \n",
      "7          [1310 Junction Drive, 1310 Junction Drive]     DRV88  \n",
      "8          [12007 Research Blvd, 650 Windchase Place]    JKLANG  \n",
      "9                [707 Rio Grande Street, 524 Sampson]   DYVCAST  \n",
      "10       [130 East Park Street, 130 East Park Avenue]     RG962  \n",
      "3907\n"
     ]
    }
   ],
   "source": [
    "print(addr_diff.head(11))\n",
    "print(len(addr_diff))"
   ]
  },
  {
   "cell_type": "code",
   "execution_count": 10,
   "metadata": {},
   "outputs": [],
   "source": [
    "addr_diff.to_csv(r'C:\\Users\\le5752\\Documents\\DB_Python\\addr2.csv', index = False)"
   ]
  }
 ],
 "metadata": {
  "kernelspec": {
   "display_name": "Python 3",
   "language": "python",
   "name": "python3"
  },
  "language_info": {
   "codemirror_mode": {
    "name": "ipython",
    "version": 3
   },
   "file_extension": ".py",
   "mimetype": "text/x-python",
   "name": "python",
   "nbconvert_exporter": "python",
   "pygments_lexer": "ipython3",
   "version": "3.7.7"
  }
 },
 "nbformat": 4,
 "nbformat_minor": 4
}
