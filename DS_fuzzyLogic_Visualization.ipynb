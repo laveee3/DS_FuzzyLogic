{
 "cells": [
  {
   "cell_type": "code",
   "execution_count": 58,
   "metadata": {},
   "outputs": [
    {
     "name": "stdout",
     "output_type": "stream",
     "text": [
      "Total count of records from csv  100\n",
      "Count records after dropping records with no address :  100\n",
      "Count records after dropping records with no email :  100\n",
      "Count records after dropping records with no phone :  91\n"
     ]
    }
   ],
   "source": [
    "import sys\n",
    "#import regex\n",
    "import pandas as pd\n",
    "from fuzzywuzzy import fuzz\n",
    "\n",
    "df_csv = pd.read_csv('recent_ContactInfo.csv')\n",
    "print(\"Total count of records from csv \",len(df_csv))\n",
    "\n",
    "# converting the username to uppercase since the username is in uppercase in the database\n",
    "df_csv['username'] = df_csv['username'].str.upper()\n",
    "\n",
    "df_csv_addr = df_csv[['username', 'Street', 'AddrLine2', 'StateZip']]\n",
    "df_csv_email = df_csv[['username', 'email']]\n",
    "df_csv_phone = df_csv[['username', 'Phone']]\n",
    "\n",
    "df_csv_phone = df_csv.dropna(how='all', subset=['Phone'])\n",
    "df_csv_Addr = df_csv_Addr.dropna(how='all', subset=['Street'])\n",
    "df_csv_email = df_csv_email.dropna(how='all', subset=['email'])\n",
    "print(\"Count records after dropping records with no address : \",len(df_csv_Addr))\n",
    "print(\"Count records after dropping records with no email : \",len(df_csv_email))\n",
    "print(\"Count records after dropping records with no phone : \",len(df_csv_phone))"
   ]
  },
  {
   "cell_type": "code",
   "execution_count": 59,
   "metadata": {},
   "outputs": [],
   "source": [
    "raw_eid = df_csv['username'].dropna()\n",
    "eid = raw_eid.tolist()"
   ]
  },
  {
   "cell_type": "code",
   "execution_count": null,
   "metadata": {},
   "outputs": [],
   "source": [
    "import cx_Oracle\n",
    "connection = cx_Oracle.connect(\"xxxx/Zyyy@ea.y.z.com:1525/z.x.y.com\")\n",
    "cursor = connection.cursor()\n",
    "\n",
    "df_addr_db = pd.DataFrame(columns = ['username','Street','Address2','City','State','Zip Code'])\n",
    "for i in range(2):\n",
    "    cursor.execute(\"select username, addr_line1, addr_line2, city, state, zip from main_table m, t_addresses a  where m.username = a.username AND m.id IN %s\" % str(tuple(id)).replace(',)',')'))\n",
    "    results = cursor.fetchall()\n",
    "    df1 = pd.DataFrame(results, columns = ['username','Street','Address2','City','State','Zip Code'])\n",
    "    df_addr_db = df_addr_db.append(df1,ignore_index=True)\n",
    "\n",
    "df_edb = pd.DataFrame(columns = ['ID','Email'])\n",
    "for i in range(2):\n",
    "    cursor.execute(\"select ID, email_addr from main m, email_info e where m.ID = e.ID AND m.id IN %s\" % str(tuple(eid)).replace(',)',')'))\n",
    "    results = cursor.fetchall()\n",
    "    df1 = pd.DataFrame(results, columns = ['ID','Email'])\n",
    "    df_edb = df_edb.append(df1,ignore_index=True)\n",
    "cursor.close()\n",
    "connection.close()    "
   ]
  },
  {
   "cell_type": "code",
   "execution_count": 71,
   "metadata": {},
   "outputs": [],
   "source": [
    "db_data = pd.read_csv('db_data.csv')"
   ]
  },
  {
   "cell_type": "code",
   "execution_count": 73,
   "metadata": {},
   "outputs": [
    {
     "name": "stdout",
     "output_type": "stream",
     "text": [
      "         username                Name                          Street  \\\n",
      "0          GLEWIS  Anthony Thomas DVM              532 Michael Radial   \n",
      "1   WALLSSAMANTHA     Valerie Barrera         91083 Christopher Field   \n",
      "2       MELANIE05    Melissa Anderson    5324 Donna Station Suite 578   \n",
      "3         NBECKER       Jason Kennedy              02930 Collins Dale   \n",
      "4    WEAVERLAUREN       Thomas Robles                  1626 Love Ford   \n",
      "5          GARY15     Taylor Martinez               307 Brian Viaduct   \n",
      "6         ORHODES     Laura Maldonado              285 Nguyen Gardens   \n",
      "7        DAVIDLEE       Brandon Myers       12378 Lisa Ways Suite 065   \n",
      "8         FGAMBLE      William Chavez              Unit 4390 Box 1717   \n",
      "10       ZJOHNSON        Mark Freeman  772 Harris Extension Suite 504   \n",
      "11     MICHELLE77       Angela Fields                     USNV Gentry   \n",
      "\n",
      "           AddrLine2  StateZip                     email           Phone  \\\n",
      "0   Port Connorville  NM 71043       anthony52@gmail.com      5122923067   \n",
      "1        Port Alyssa  MA 84433    kelleythomas@yahoo.com      5124761492   \n",
      "2         Beardburgh  NJ 49740     mooredaniel@gmail.com      7328144929   \n",
      "3   New Rebeccamouth  MI 82754       brandon51@gmail.com      2814304153   \n",
      "4         South Chad  MT 53572           lford@gmail.com      9722260600   \n",
      "5       Hayeschester  ME 37261        sserrano@yahoo.com      3308360567   \n",
      "6          Whitebury  MS 46105         psuarez@gmail.com      2818440799   \n",
      "7   Port Janechester  NY 61543  millerpatricia@gmail.com      5305265734   \n",
      "8       DPO AA 89069       NaN   robertgreen@hotmail.com      5129646612   \n",
      "10      Rebeccamouth  MO 83479          kbrown@gmail.com  (281) 488-3032   \n",
      "11      FPO AE 51618       NaN    jessicasmith@gmail.com      9184921983   \n",
      "\n",
      "    Unnamed: 7  \n",
      "0          NaN  \n",
      "1          NaN  \n",
      "2          NaN  \n",
      "3          NaN  \n",
      "4          NaN  \n",
      "5          NaN  \n",
      "6          NaN  \n",
      "7          NaN  \n",
      "8          NaN  \n",
      "10         NaN  \n",
      "11         NaN             username                Name                      Street  \\\n",
      "0           GLEWIS  Anthony Thomas DVM          532 Michael Radial   \n",
      "1    WALLSSAMANTHA     Valerie Barrera     9402 Beverlyhill Street   \n",
      "2        MELANIE05    Melissa Anderson            P. O. Box 202192   \n",
      "3          NBECKER       Jason Kennedy  12006 Captain Bailys Court   \n",
      "4     WEAVERLAUREN       Thomas Robles          3663 Behrman Place   \n",
      "5           GARY15     Taylor Martinez            #4 Lakewood Lane   \n",
      "6          ORHODES     Laura Maldonado          211 E Creek Street   \n",
      "7         DAVIDLEE       Brandon Myers         3916 Markridge Road   \n",
      "8          FGAMBLE      William Chavez            4606 19th Street   \n",
      "9   MICHAELHERRERA       Holly Jackson               P. O. Box 405   \n",
      "10        ZJOHNSON        Mark Freeman     12601 South Green Drive   \n",
      "\n",
      "           AddrLine2  StateZip                         email       Phone  \n",
      "0   Port Connorville  NM 71043           anthony52@gmail.com  5122923067  \n",
      "1     Universal City        TX        saveronjaime@gmail.com  7732515603  \n",
      "2             Dallas        TX     sazzad.sharior@utexas.edu  7137751626  \n",
      "3            McAllen        TX           brandon51@gmail.com  2814304153  \n",
      "4             Austin        TX               lford@gmail.com  9722260600  \n",
      "5        Van Alstyne        TX            sserrano@yahoo.com  3308360567  \n",
      "6         New Canaan        CT             psuarez@gmail.com  2818440799  \n",
      "7             Spring        TX      millerpatricia@gmail.com  6514842525  \n",
      "8           Giddings        TX         shamilton97@yahoo.com  5129646612  \n",
      "9           McNument        CO  shannon.macmichael@gmail.com         nan  \n",
      "10        Cedar Park        TX              sbboye@gmail.com  2814883032  \n"
     ]
    }
   ],
   "source": [
    "for i in range(len(df_csv)): \n",
    "    k = df_csv.loc[i,'Phone']\n",
    "    k = str(k)\n",
    "    #df_csv_phone.loc[i,'Phone'] = int(df_csv_phone.loc[i,'Phone'])   \n",
    "    df_csv.loc[i,'Phone'] = k.replace(\"(\",\"\").replace(\")\",\"\").replace(\"-\",\"\").replace(\"/\",\"\").replace(\" \",\"\")\n",
    "    m = db_data.loc[i,'Phone']\n",
    "    m = str(m)\n",
    "    db_data.loc[i,'Phone'] = m.replace(\"(\",\"\").replace(\")\",\"\").replace(\"-\",\"\").replace(\"/\",\"\").replace(\" \",\"\")\n",
    "print(df_csv_phone.head(11), db_data.head(11))"
   ]
  },
  {
   "cell_type": "code",
   "execution_count": 75,
   "metadata": {},
   "outputs": [
    {
     "name": "stdout",
     "output_type": "stream",
     "text": [
      "                       CSV_Address                  DB_Address  \\\n",
      "0          91083 Christopher Field     9402 Beverlyhill Street   \n",
      "1     5324 Donna Station Suite 578            P. O. Box 202192   \n",
      "2               02930 Collins Dale  12006 Captain Bailys Court   \n",
      "3                   1626 Love Ford          3663 Behrman Place   \n",
      "4                307 Brian Viaduct            #4 Lakewood Lane   \n",
      "5               285 Nguyen Gardens          211 E Creek Street   \n",
      "6        12378 Lisa Ways Suite 065         3916 Markridge Road   \n",
      "7               Unit 4390 Box 1717            4606 19th Street   \n",
      "8    88583 Bryan Centers Suite 295               P. O. Box 405   \n",
      "9   772 Harris Extension Suite 504     12601 South Green Drive   \n",
      "10          9942 Patrick Underpass               13323 Demeter   \n",
      "11                620 Thomas Point        9056 Westbriar Drive   \n",
      "12         8330 Beth Mall Apt. 321           137 East Gardenia   \n",
      "13       1196 Yang Plaza Suite 624      2804 Rio Grande Street   \n",
      "14               839 Nicholas Mews            777 Belmont Lane   \n",
      "15                 984 Robert Lane             171 Oenoke Lane   \n",
      "16     427 Daniels Square Apt. 155   25227 Metzler Creek Drive   \n",
      "17                     USNV Carter      1105 Private Road 6002   \n",
      "18   47418 Serrano Estate Apt. 832         20421 High Pines Dr   \n",
      "19     5157 Carly Islands Apt. 726          2805 Rathlin Drive   \n",
      "20       8918 Jason Grove Apt. 085             205 Bulian Lane   \n",
      "21           80081 Jennifer Shoals       3406 Fallen Leaf Lane   \n",
      "22                          USS Wu            5319 Mora Circle   \n",
      "23     139 Veronica Locks Apt. 869            311 Bowie Street   \n",
      "\n",
      "            username  \n",
      "0      WALLSSAMANTHA  \n",
      "1          MELANIE05  \n",
      "2            NBECKER  \n",
      "3       WEAVERLAUREN  \n",
      "4             GARY15  \n",
      "5            ORHODES  \n",
      "6           DAVIDLEE  \n",
      "7            FGAMBLE  \n",
      "8     MICHAELHERRERA  \n",
      "9           ZJOHNSON  \n",
      "10     YESENIAGUZMAN  \n",
      "11            WSMITH  \n",
      "12           DGREENE  \n",
      "13             IROSS  \n",
      "14        MASONJAMES  \n",
      "15  WILLIAMWILKINSON  \n",
      "16         JEFFREY65  \n",
      "17            EADAMS  \n",
      "18           HALEY36  \n",
      "19            DANA51  \n",
      "20       CATHERINE71  \n",
      "21       JILLFRANCIS  \n",
      "22            GSMITH  \n",
      "23       DAVIDNORTON  \n",
      "                      Email_csv                        Email_db  \\\n",
      "0        kelleythomas@yahoo.com        {saveronjaime@gmail.com}   \n",
      "1         mooredaniel@gmail.com     {sazzad.sharior@utexas.edu}   \n",
      "2       robertgreen@hotmail.com         {shamilton97@yahoo.com}   \n",
      "3         stephanie85@yahoo.com  {shannon.macmichael@gmail.com}   \n",
      "4              kbrown@gmail.com              {sbboye@gmail.com}   \n",
      "5        jessicasmith@gmail.com            {schick2006@aol.com}   \n",
      "6           mikecarey@gmail.com   {schulten.carolina@gmail.com}   \n",
      "7       melissaharris@gmail.com      {scott@appellationnyc.com}   \n",
      "8         molinajulie@gmail.com           {sdparker@utexas.edu}   \n",
      "9        comptonjesse@gmail.com          {sdunckel@satx.rr.com}   \n",
      "10       forbesrhonda@yahoo.com             {selman@utexas.edu}   \n",
      "11    thompsonshirley@yahoo.com                {sendas@aol.com}   \n",
      "12       sarahchase@hotmail.com           {sergtex@hotmail.com}   \n",
      "13  williamsstephanie@gmail.com            {seryburn@gmail.com}   \n",
      "14       nelsonbailey@gmail.com              {sgrayson@att.net}   \n",
      "15            vgeorge@gmail.com         {shafiasarah@yahoo.com}   \n",
      "16          rpotter@hotmail.com       {moody.scott.e@gmail.com}   \n",
      "17        longheather@yahoo.com       {moonriver1539@gmail.com}   \n",
      "18         ayalasarah@yahoo.com             {mpfilters@aol.com}   \n",
      "\n",
      "           username  \n",
      "0     WALLSSAMANTHA  \n",
      "1         MELANIE05  \n",
      "2           FGAMBLE  \n",
      "3    MICHAELHERRERA  \n",
      "4          ZJOHNSON  \n",
      "5        MICHELLE77  \n",
      "6       BRIANDUNLAP  \n",
      "7        ERINARNOLD  \n",
      "8            VADAMS  \n",
      "9          GRAYSETH  \n",
      "10  MIDDLETONCOLTON  \n",
      "11        LINDSAY97  \n",
      "12         CSHELTON  \n",
      "13    TIFFANYMILLER  \n",
      "14      CATHERINE07  \n",
      "15  CHRISTIEJOHNSON  \n",
      "16           KREYES  \n",
      "17     AMANDAFISHER  \n",
      "18         GINARICE  \n",
      "        db_csv   phone_csv         username\n",
      "0   7732515603  5124761492    WALLSSAMANTHA\n",
      "1   7137751626  7328144929        MELANIE05\n",
      "2   6514842525  5305265734         DAVIDLEE\n",
      "3   9184940630  5122170274      BRIANDUNLAP\n",
      "4   5048284133  7195397184       ERINARNOLD\n",
      "5   5043093719  3172517083           VADAMS\n",
      "6   2818898676  2817573831         GRAYSETH\n",
      "7   7139958385  5129362087  MIDDLETONCOLTON\n",
      "8          nan  2149125040        LINDSAY97\n",
      "9          nan  2148861004         GINARICE\n",
      "10  8062741212  8323667532    YESENIAGUZMAN\n",
      "11         nan  9728223456           EADAMS\n",
      "12  9172322561  9728223456      JILLFRANCIS\n",
      "13  3256730336  2108263812           GSMITH\n",
      "14  5122662398  2145625537         LROLLINS\n",
      "15  5124952368  7204358665            KBOYD\n"
     ]
    }
   ],
   "source": [
    "addr_diff = pd.DataFrame()\n",
    "df_email = pd.DataFrame()\n",
    "df_phone = pd.DataFrame()\n",
    "\n",
    "for i in range(len(df_csv)):\n",
    "    flag = 0\n",
    "    id_csv = df_csv_addr.iloc[i,0]\n",
    "    csv_addr = df_csv_addr.iloc[i,1]\n",
    "    db_addr = db_data.iloc[i,2]\n",
    "   \n",
    "    Token_Set_Ratio = fuzz.token_set_ratio(csv_addr,db_addr)\n",
    "    if (Token_Set_Ratio > 77):\n",
    "        flag = 0\n",
    "    else:\n",
    "        flag = 1\n",
    "    \n",
    "    if (flag == 1):\n",
    "        addr_diff = addr_diff.append({'username':id_csv, 'DB_Address':db_addr,'CSV_Address':csv_addr}, ignore_index=True) \n",
    "    \n",
    "    email_csv = df_csv.iloc[i,5]\n",
    "    email_db = db_data.iloc[i,5]\n",
    "    email_db = {email_db}\n",
    "    email_csv = {email_csv}\n",
    "    diff = (email_csv - email_db)\n",
    "    if len(diff) > 0:\n",
    "        #df_email = df_email.append({'EID':id_csv, 'Email':diff}, ignore_index=True)\n",
    "        df_email = df_email.append({'username':id_csv, 'Email_csv':df_csv_email.iloc[i,1], 'Email_db':email_db}, ignore_index=True)\n",
    "\n",
    "        \n",
    "    id_csv = df_csv.iloc[i,0]\n",
    "    #print(id_csv)\n",
    "    ph_csv = df_csv.iloc[i,6]\n",
    "    #print(ph_csv)\n",
    "    ph_db = db_data.iloc[i,6]\n",
    "    #print(ph_db) \n",
    "    ph_db = {ph_db}\n",
    "    #print(ph_db, ph_csv)\n",
    "    ph_csv = {ph_csv}\n",
    "    diff1 = (ph_csv - ph_db)\n",
    "    if len(diff1) > 0:\n",
    "        df_phone = df_phone.append({'username':id_csv, 'phone_csv':df_csv.iloc[i,6], 'db_csv':db_data.iloc[i,6]}, ignore_index=True)\n",
    "        \n",
    "print(addr_diff)\n",
    "print(df_email)\n",
    "print(df_phone)"
   ]
  },
  {
   "cell_type": "code",
   "execution_count": 76,
   "metadata": {},
   "outputs": [
    {
     "name": "stdout",
     "output_type": "stream",
     "text": [
      "40\n"
     ]
    }
   ],
   "source": [
    "df_addr = addr_diff\n",
    "E_P_merge = pd.merge(df_email, df_phone, how='outer');\n",
    "AEP_merged = pd.merge(df_addr, E_P_merge, how='outer');\n",
    "#print(AEP_merged.head(3))\n",
    "print(len(AEP_merged ))"
   ]
  },
  {
   "cell_type": "code",
   "execution_count": 78,
   "metadata": {},
   "outputs": [
    {
     "name": "stdout",
     "output_type": "stream",
     "text": [
      "AEP :  2\n",
      "AE :  3\n",
      "A :  14\n",
      "AP :  5\n",
      "EP :  7\n",
      "P :  2\n",
      "E :  7\n"
     ]
    }
   ],
   "source": [
    "df_AEP = AEP_merged[(AEP_merged.CSV_Address.notnull())&(AEP_merged.Email_csv.notnull())&(AEP_merged.phone_csv.notnull())]\n",
    "print(\"AEP : \", len(df_AEP))\n",
    "\n",
    "df_AE = AEP_merged[(AEP_merged.CSV_Address.notnull())&(AEP_merged.Email_csv.notnull())&(AEP_merged.phone_csv.isnull())]\n",
    "print(\"AE : \", len(df_AE))\n",
    "\n",
    "df_A = AEP_merged[(AEP_merged.CSV_Address.notnull())&(AEP_merged.Email_csv.isnull())&(AEP_merged.phone_csv.isnull())]\n",
    "print(\"A : \", len(df_A))\n",
    "\n",
    "df_AP = AEP_merged[(AEP_merged.CSV_Address.notnull())&(AEP_merged.Email_csv.isnull())&(AEP_merged.phone_csv.notnull())]\n",
    "print(\"AP : \", len(df_AP))\n",
    "\n",
    "df_EP = AEP_merged[(AEP_merged.CSV_Address.isnull())&(AEP_merged.Email_csv.notnull())&(AEP_merged.phone_csv.notnull())]\n",
    "print(\"EP : \", len(df_EP))\n",
    "\n",
    "df_P = AEP_merged[(AEP_merged.CSV_Address.isnull())&(AEP_merged.Email_csv.isnull())&(AEP_merged.phone_csv.notnull())]\n",
    "print(\"P : \", len(df_P))\n",
    "\n",
    "df_E = AEP_merged[(AEP_merged.CSV_Address.isnull())&(AEP_merged.Email_csv.notnull())&(AEP_merged.phone_csv.isnull())]\n",
    "print(\"E : \", len(df_E))"
   ]
  },
  {
   "cell_type": "code",
   "execution_count": 82,
   "metadata": {},
   "outputs": [
    {
     "name": "stdout",
     "output_type": "stream",
     "text": [
      "The below Venn diagram shows the number of EID with changes in address, phone, number\n"
     ]
    },
    {
     "data": {
      "image/png": "[encoded data removed]",
      "text/plain": [
       "<Figure size 432x288 with 1 Axes>"
      ]
     },
     "metadata": {},
     "output_type": "display_data"
    }
   ],
   "source": [
    "from matplotlib_venn import venn2, venn2_circles, venn2_unweighted\n",
    "from matplotlib_venn import venn3, venn3_circles\n",
    "from matplotlib import pyplot as plt\n",
    "\n",
    "#venn3(subsets = (A,B,AB,C,AC,BC,ABC), set_labels = ('A', 'B', 'C'), alpha = 0.5);\n",
    "print(\"The below Venn diagram shows the number of EID with changes in address, phone, number\")\n",
    "venn3(subsets = (len(df_A), len(df_E),len(df_AE),len(df_P), len(df_AP),  len(df_EP),len(df_AEP)), set_labels = ('Address', 'E-mail', 'Phone'), alpha = 0.5);\n"
   ]
  },
  {
   "cell_type": "code",
   "execution_count": null,
   "metadata": {},
   "outputs": [],
   "source": []
  }
 ],
 "metadata": {
  "kernelspec": {
   "display_name": "Python 3",
   "language": "python",
   "name": "python3"
  },
  "language_info": {
   "codemirror_mode": {
    "name": "ipython",
    "version": 3
   },
   "file_extension": ".py",
   "mimetype": "text/x-python",
   "name": "python",
   "nbconvert_exporter": "python",
   "pygments_lexer": "ipython3",
   "version": "3.7.3"
  }
 },
 "nbformat": 4,
 "nbformat_minor": 2
}
