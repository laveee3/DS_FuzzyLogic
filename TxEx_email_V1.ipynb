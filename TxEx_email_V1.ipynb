{
 "cells": [
  {
   "cell_type": "code",
   "execution_count": 66,
   "metadata": {},
   "outputs": [
    {
     "name": "stdout",
     "output_type": "stream",
     "text": [
      "original count  2200\n",
      "        EID                  Email         Personal Email Alternate Email  \\\n",
      "0    to3269  taylor.orth@gmail.com  taylor.orth@gmail.com             NaN   \n",
      "1  0563numt   fishbaughm@gmail.com   fishbaughm@gmail.com             NaN   \n",
      "2     ksn99    ksn2006@hotmail.com    ksn2006@hotmail.com             NaN   \n",
      "\n",
      "  Work Email  \n",
      "0        NaN  \n",
      "1        NaN  \n",
      "2        NaN  \n",
      "Count records after dropping records with no emails :  1271\n",
      "Count records with values in column email :  1271\n"
     ]
    }
   ],
   "source": [
    "'''1. Remove foreign records to a 'foreign dataframe' and delete them from this df. - applicable for  address\n",
    "2.Find whether all phone numbers are empty, if empty drop those rows (8708)\n",
    "3.Column Phone matches the Phone number in preferred phone number\n",
    "Transfer records with non-null values in Phone to a new dataframe with columns EID and phone\n",
    "Find the count of records (124000)\n",
    "4. Null values in Phone: (36000 records) Create a new df:Check the content in preferred phone \n",
    "and grasp the preferred phone and add it to df with columns eid and phone\n",
    "'''\n",
    "import pandas as pd\n",
    "\n",
    "df_txexEmail = pd.read_csv('TexasExes.csv')\n",
    "print(\"original count \",len(df_txexEmail))\n",
    "df_txexEmail = df_txexEmail[['EID','Email','Personal Email','Alternate Email','Work Email']]\n",
    "print(df_txexEmail.head(3))\n",
    "\n",
    "df_Email = df_txexEmail.dropna(how='all', subset=['Email','Personal Email','Alternate Email','Work Email'])\n",
    "print(\"Count records after dropping records with no emails : \",len(df_Email))\n",
    "\n",
    "df_Email_nb = df_Email.dropna(subset=['Email'])\n",
    "print(\"Count records with values in column email : \",len(df_Email_nb))\n",
    "\n",
    "del df_Email_nb, df_txexEmail\n"
   ]
  },
  {
   "cell_type": "code",
   "execution_count": 67,
   "metadata": {},
   "outputs": [],
   "source": [
    "df_Email = df_Email[['EID','Email']]\n",
    "df_Email['EID'] = df_Email['EID'].str.upper()"
   ]
  },
  {
   "cell_type": "code",
   "execution_count": 68,
   "metadata": {
    "scrolled": true
   },
   "outputs": [],
   "source": [
    "raw_eid = df_Email['EID'].dropna()\n",
    "eid = raw_eid.tolist()\n",
    "#print(len(eid))\n",
    "# How many elements each list should have \n",
    "n = 1000\n",
    "pid = {}\n",
    "for i in range((len(eid) + n - 1) // n ):\n",
    "    #globals()[\"eid\" + str(i)] = eid[i * n:(i + 1) * n]\n",
    "    pid[i] = eid[i * n:(i + 1) * n]"
   ]
  },
  {
   "cell_type": "code",
   "execution_count": 70,
   "metadata": {},
   "outputs": [],
   "source": [
    "import cx_Oracle\n",
    "connection = cx_Oracle.connect(\"xxxx/Zyyy@ea.y.z.com:1525/z.x.y.com\")\n",
    "cursor = connection.cursor()\n",
    "df_edb = pd.DataFrame(columns = ['EID','Email'])\n",
    "for i in range(2):\n",
    "    cursor.execute(\"select UT_EID, vi_email_addr from vi_vips_main m, vi_vips_email_info e where m.ALUMNI_ID = e.ALUMNI_ID AND m.ut_eid IN %s\" % str(tuple(pid[i])).replace(',)',')'))\n",
    "    results = cursor.fetchall()\n",
    "    df1 = pd.DataFrame(results, columns = ['EID','Email'])\n",
    "    df_edb = df_edb.append(df1,ignore_index=True)\n",
    "cursor.close()\n",
    "connection.close()"
   ]
  },
  {
   "cell_type": "code",
   "execution_count": 71,
   "metadata": {
    "scrolled": true
   },
   "outputs": [
    {
     "name": "stdout",
     "output_type": "stream",
     "text": [
      "        EID                  Email\n",
      "0   DMD3369    18duncand@gmail.com\n",
      "1    TN9386  20nwafort@smtexas.org\n",
      "2  0669DWRG           2jgs@msn.com\n",
      "1525\n",
      "        EID                  Email\n",
      "0    TO3269  taylor.orth@gmail.com\n",
      "1  0563NUMT   fishbaughm@gmail.com\n",
      "1271\n"
     ]
    }
   ],
   "source": [
    "print(df_edb.head(3))\n",
    "print(len(df_edb))\n",
    "df_ecsv = df_Email\n",
    "print(df_ecsv.head(2))\n",
    "print(len(df_ecsv))\n",
    "del df_Email"
   ]
  },
  {
   "cell_type": "code",
   "execution_count": 72,
   "metadata": {},
   "outputs": [],
   "source": [
    "df_email = pd.DataFrame()\n",
    "for i in range(len(df_ecsv)):\n",
    "    id_csv = df_ecsv.iloc[i,0]\n",
    "    email_csv = df_ecsv.iloc[i,1]\n",
    "    email_db = (df_edb.loc[df_edb['EID'] == id_csv]).iloc[:,1]\n",
    "    email_db = {*email_db}\n",
    "    email_csv = {email_csv}\n",
    "    diff = (email_csv - email_db)\n",
    "    if len(diff) > 0:\n",
    "        #df_email = df_email.append({'EID':id_csv, 'Email':diff}, ignore_index=True)\n",
    "        df_email = df_email.append({'EID':id_csv, 'Email_csv':df_ecsv.iloc[i,1], 'Email_db':email_db}, ignore_index=True)"
   ]
  },
  {
   "cell_type": "code",
   "execution_count": 73,
   "metadata": {},
   "outputs": [
    {
     "name": "stdout",
     "output_type": "stream",
     "text": [
      "       EID                 Email_csv Email_db\n",
      "0  KTBOOSE     katysombito@gmail.com       {}\n",
      "1    WK589    keeshond6919@yahoo.com       {}\n",
      "2  KHW2314  kendra.h.allen@gmail.com       {}\n",
      "3   RCP524       clpresent@gmail.com       {}\n",
      "81\n",
      "81\n"
     ]
    }
   ],
   "source": [
    "print(df_email.head(4))\n",
    "print(len(df_email))\n",
    "#df_email = df_email.drop_duplicates()\n",
    "print(len(df_email))"
   ]
  },
  {
   "cell_type": "code",
   "execution_count": 74,
   "metadata": {},
   "outputs": [],
   "source": [
    "df_email.to_csv(r'C:\\Users\\le5752\\Documents\\DB_Python\\EmailsDiff.csv', index = False)"
   ]
  },
  {
   "cell_type": "code",
   "execution_count": null,
   "metadata": {},
   "outputs": [],
   "source": []
  }
 ],
 "metadata": {
  "kernelspec": {
   "display_name": "Python 3",
   "language": "python",
   "name": "python3"
  },
  "language_info": {
   "codemirror_mode": {
    "name": "ipython",
    "version": 3
   },
   "file_extension": ".py",
   "mimetype": "text/x-python",
   "name": "python",
   "nbconvert_exporter": "python",
   "pygments_lexer": "ipython3",
   "version": "3.7.7"
  }
 },
 "nbformat": 4,
 "nbformat_minor": 4
}
